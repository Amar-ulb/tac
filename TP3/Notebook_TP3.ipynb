{
 "cells": [
  {
   "cell_type": "markdown",
   "metadata": {},
   "source": [
    "# Clustering de documents"
   ]
  },
  {
   "cell_type": "code",
   "execution_count": 5,
   "metadata": {},
   "outputs": [],
   "source": [
    "import collections\n",
    "import os\n",
    "import string\n",
    "import sys\n",
    "\n",
    "import pandas as pd\n",
    "from nltk import word_tokenize\n",
    "from nltk.corpus import stopwords\n",
    "from pprint import pprint\n",
    "from sklearn.cluster import KMeans\n",
    "from sklearn.feature_extraction.text import TfidfVectorizer\n",
    "from sklearn.decomposition import PCA\n",
    "import numpy as np\n",
    "import matplotlib.pyplot as plt\n",
    "from scipy.spatial.distance import cosine"
   ]
  },
  {
   "cell_type": "code",
   "execution_count": 6,
   "metadata": {},
   "outputs": [],
   "source": [
    "from sklearn.datasets import make_blobs\n",
    "import numpy as np\n"
   ]
  },
  {
   "cell_type": "code",
   "execution_count": 7,
   "metadata": {},
   "outputs": [
    {
     "name": "stderr",
     "output_type": "stream",
     "text": [
      "[nltk_data] Downloading package punkt to\n",
      "[nltk_data]     C:\\Users\\Paco\\AppData\\Roaming\\nltk_data...\n",
      "[nltk_data]   Package punkt is already up-to-date!\n"
     ]
    },
    {
     "data": {
      "text/plain": [
       "True"
      ]
     },
     "execution_count": 7,
     "metadata": {},
     "output_type": "execute_result"
    }
   ],
   "source": [
    "import nltk\n",
    "\n",
    "nltk.download('punkt')"
   ]
  },
  {
   "cell_type": "code",
   "execution_count": 8,
   "metadata": {},
   "outputs": [],
   "source": [
    "data_path = \"../data/txt/\""
   ]
  },
  {
   "cell_type": "code",
   "execution_count": 9,
   "metadata": {},
   "outputs": [],
   "source": [
    "# Choisir une décennie\n",
    "DECADE = '1960'"
   ]
  },
  {
   "cell_type": "code",
   "execution_count": 10,
   "metadata": {},
   "outputs": [],
   "source": [
    "# Charger tous les fichiers de la décennie et en créer une liste de textes\n",
    "files = [f for f in sorted(os.listdir(data_path)) if f\"_{DECADE[:-1]}\" in f]"
   ]
  },
  {
   "cell_type": "code",
   "execution_count": 11,
   "metadata": {},
   "outputs": [
    {
     "data": {
      "text/plain": [
       "['KB_JB838_1960-01-10_01-00018.txt',\n",
       " 'KB_JB838_1960-01-12_01-00011.txt',\n",
       " 'KB_JB838_1960-01-13_01-00009.txt',\n",
       " 'KB_JB838_1960-01-21_01-00014.txt',\n",
       " 'KB_JB838_1960-01-22_01-00015.txt',\n",
       " 'KB_JB838_1960-01-27_01-00006.txt',\n",
       " 'KB_JB838_1960-01-28_01-00011.txt',\n",
       " 'KB_JB838_1960-01-28_01-00021.txt',\n",
       " 'KB_JB838_1960-01-30_01-00007.txt',\n",
       " 'KB_JB838_1960-01-31_01-00024.txt',\n",
       " 'KB_JB838_1960-02-03_01-00019.txt',\n",
       " 'KB_JB838_1960-02-13_01-00020.txt',\n",
       " 'KB_JB838_1960-02-19_01-00011.txt',\n",
       " 'KB_JB838_1960-02-20_01-00006.txt',\n",
       " 'KB_JB838_1960-02-24_01-00020.txt',\n",
       " 'KB_JB838_1960-02-26_01-00001.txt',\n",
       " 'KB_JB838_1960-02-26_01-00011.txt',\n",
       " 'KB_JB838_1960-03-04_01-00010.txt',\n",
       " 'KB_JB838_1960-03-06_01-00004.txt',\n",
       " 'KB_JB838_1960-03-08_01-00008.txt']"
      ]
     },
     "execution_count": 11,
     "metadata": {},
     "output_type": "execute_result"
    }
   ],
   "source": [
    "# Exemple de fichiers\n",
    "files[:20]"
   ]
  },
  {
   "cell_type": "code",
   "execution_count": 12,
   "metadata": {},
   "outputs": [],
   "source": [
    "texts = [open(data_path + f, \"r\", encoding=\"utf-8\").read() for f in files]"
   ]
  },
  {
   "cell_type": "code",
   "execution_count": 13,
   "metadata": {},
   "outputs": [
    {
     "data": {
      "text/plain": [
       "'ia« le som ÏJsIne MéuhMrïiqii S.AT\\'BBirîï^^ J00, r. Merlu» Duché, Vllvorde ch. STENO-DACTYLO élément de let ordre, bilingue, bon- i ne rémunération. Situation d’avenir, i Candidat, A soumet par écrit 130221H PORTANTE 80C.BRUXELL0I8I cherche pour entrée Immédiate Secrétaire Sténo-Dactylo 3 françalee - 1 an d\\'expérience, al tuât h «table - semaine de 5 Jours. Ecrire é cur. vit et prêt Ag. Rossel 02983 H \"âociËTS\\'Importante de sa pi* demande 1 Sténo-Dactylo bilingue débutante. - Se présenter : 151.'"
      ]
     },
     "execution_count": 13,
     "metadata": {},
     "output_type": "execute_result"
    }
   ],
   "source": [
    "# Exemple de textes\n",
    "texts[0][:500]"
   ]
  },
  {
   "cell_type": "markdown",
   "metadata": {},
   "source": [
    "### Vectoriser les documents à l'aide de TF-IDF"
   ]
  },
  {
   "cell_type": "code",
   "execution_count": 14,
   "metadata": {},
   "outputs": [],
   "source": [
    "# Création d'une fonction de pré-traitement\n",
    "def preprocessing(text, stem=True):\n",
    "    \"\"\" Tokenize text and remove punctuation \"\"\"\n",
    "    text = text.translate(string.punctuation)\n",
    "    tokens = word_tokenize(text)\n",
    "    return tokens"
   ]
  },
  {
   "cell_type": "code",
   "execution_count": 15,
   "metadata": {},
   "outputs": [],
   "source": [
    "# Instancier le modèle TF-IDF avec ses arguments\n",
    "vectorizer = TfidfVectorizer(\n",
    "    tokenizer=preprocessing,\n",
    "    stop_words=stopwords.words('french'),\n",
    "    max_df=0.5,\n",
    "    min_df=0.1,\n",
    "    lowercase=True)"
   ]
  },
  {
   "cell_type": "code",
   "execution_count": 16,
   "metadata": {},
   "outputs": [],
   "source": [
    "# Construire la matrice de vecteurs à l'aide de la fonction `fit_transform`\n",
    "tfidf_vectors = vectorizer.fit_transform(texts)"
   ]
  },
  {
   "cell_type": "code",
   "execution_count": 17,
   "metadata": {},
   "outputs": [
    {
     "data": {
      "text/plain": [
       "<1000x2997 sparse matrix of type '<class 'numpy.float64'>'\n",
       "\twith 591250 stored elements in Compressed Sparse Row format>"
      ]
     },
     "execution_count": 17,
     "metadata": {},
     "output_type": "execute_result"
    }
   ],
   "source": [
    "# Détail de la matrice\n",
    "tfidf_vectors"
   ]
  },
  {
   "cell_type": "code",
   "execution_count": 18,
   "metadata": {},
   "outputs": [
    {
     "data": {
      "text/plain": [
       "rossel        0.429822\n",
       "ecrire        0.290745\n",
       "agence        0.287284\n",
       "bilingue      0.195608\n",
       "importante    0.172357\n",
       "                ...   \n",
       "er            0.000000\n",
       "erreurs       0.000000\n",
       "esp           0.000000\n",
       "espagne       0.000000\n",
       "♦             0.000000\n",
       "Length: 2997, dtype: float64"
      ]
     },
     "execution_count": 18,
     "metadata": {},
     "output_type": "execute_result"
    }
   ],
   "source": [
    "# Imprimer le vecteur tf-IDF du premier documentpd.Series\n",
    "pd.Series(\n",
    "    tfidf_vectors[0].toarray()[0],\n",
    "    index=vectorizer.get_feature_names_out()\n",
    "    ).sort_values(ascending=False)"
   ]
  },
  {
   "cell_type": "markdown",
   "metadata": {},
   "source": [
    "### Appliquer un algorithme de clustering sur les vecteurs TF-IDF des documents"
   ]
  },
  {
   "cell_type": "markdown",
   "metadata": {},
   "source": [
    "##### Trouver le nombre optimal de clusters (n_clusters) avec la méthode Elbow"
   ]
  },
  {
   "cell_type": "code",
   "execution_count": 19,
   "metadata": {},
   "outputs": [],
   "source": [
    "X, y = make_blobs(n_samples=1000, n_features=2,random_state=0)\n",
    "# Weight of sum of squared distance\n",
    "WSS = []\n",
    "# For possible 'k' values 2-10\n",
    "K = range(2, 10)\n",
    "for n in K:\n",
    "    algorithm = (KMeans(n_clusters = n) )\n",
    "    algorithm.fit(X)\n",
    "    WSS.append(algorithm.inertia_)"
   ]
  },
  {
   "cell_type": "code",
   "execution_count": 21,
   "metadata": {},
   "outputs": [
    {
     "data": {
      "image/png": "[encoded data removed]",
      "text/plain": [
       "<Figure size 3000x1000 with 1 Axes>"
      ]
     },
     "metadata": {},
     "output_type": "display_data"
    }
   ],
   "source": [
    "fig, (ax1) = plt.subplots(ncols =1)\n",
    "# fig, (ax3) = plt.subplots(ncols =1)\n",
    "fig.set_figheight(10)\n",
    "fig.set_figwidth(30)\n",
    "\n",
    "ax1.plot(K, WSS, 'bo')\n",
    "ax1.plot(K, WSS, 'r-', alpha = 0.5)\n",
    "ax1.set_xlabel('Number of Clusters (k)')\n",
    "ax1.set_ylabel('Sum_of_squared_distances')\n",
    "ax1.set_title('Elbow Method For Optimal k for TP3')\n",
    "ax1.grid(True)"
   ]
  },
  {
   "cell_type": "code",
   "execution_count": 22,
   "metadata": {},
   "outputs": [],
   "source": [
    "# Définir un nombre de clusters\n",
    "N_CLUSTERS = 3"
   ]
  },
  {
   "cell_type": "code",
   "execution_count": 25,
   "metadata": {},
   "outputs": [],
   "source": [
    "# Instancier le modèle K-Means et ses arguments\n",
    "km_model = KMeans(n_clusters=N_CLUSTERS)"
   ]
  },
  {
   "cell_type": "code",
   "execution_count": 26,
   "metadata": {},
   "outputs": [],
   "source": [
    "# Appliquer le clustering à l'aide de la fonction `fit_predict`\n",
    "clusters = km_model.fit_predict(tfidf_vectors)"
   ]
  },
  {
   "cell_type": "code",
   "execution_count": 27,
   "metadata": {},
   "outputs": [],
   "source": [
    "clustering = collections.defaultdict(list)\n",
    "\n",
    "for idx, label in enumerate(clusters):\n",
    "    clustering[label].append(files[idx])"
   ]
  },
  {
   "cell_type": "code",
   "execution_count": 28,
   "metadata": {},
   "outputs": [
    {
     "name": "stdout",
     "output_type": "stream",
     "text": [
      "{0: ['KB_JB838_1960-01-10_01-00018.txt',\n",
      "     'KB_JB838_1960-02-03_01-00019.txt',\n",
      "     'KB_JB838_1960-02-13_01-00020.txt',\n",
      "     'KB_JB838_1960-03-11_01-00020.txt',\n",
      "     'KB_JB838_1960-03-25_01-00020.txt',\n",
      "     'KB_JB838_1960-03-29_01-00018.txt',\n",
      "     'KB_JB838_1960-04-01_01-00020.txt',\n",
      "     'KB_JB838_1960-04-02_01-00017.txt',\n",
      "     'KB_JB838_1960-04-30_01-00016.txt',\n",
      "     'KB_JB838_1960-07-06_01-00020.txt',\n",
      "     'KB_JB838_1960-08-04_01-00018.txt',\n",
      "     'KB_JB838_1960-08-13_01-00016.txt',\n",
      "     'KB_JB838_1960-08-28_01-00019.txt',\n",
      "     'KB_JB838_1960-09-18_01-00020.txt',\n",
      "     'KB_JB838_1960-10-28_01-00020.txt',\n",
      "     'KB_JB838_1960-11-04_01-00019.txt',\n",
      "     'KB_JB838_1960-11-12_01-00017.txt',\n",
      "     'KB_JB838_1960-11-13_01-00019.txt',\n",
      "     'KB_JB838_1960-11-25_01-00020.txt',\n",
      "     'KB_JB838_1960-12-10_01-00019.txt',\n",
      "     'KB_JB838_1960-12-21_01-00017.txt',\n",
      "     'KB_JB838_1960-12-23_01-00019.txt',\n",
      "     'KB_JB838_1961-02-02_01-00019.txt',\n",
      "     'KB_JB838_1961-02-11_01-00017.txt',\n",
      "     'KB_JB838_1961-02-11_01-00018.txt',\n",
      "     'KB_JB838_1961-03-23_01-00020.txt',\n",
      "     'KB_JB838_1961-04-02_01-00018.txt',\n",
      "     'KB_JB838_1961-04-07_01-00016.txt',\n",
      "     'KB_JB838_1961-04-12_01-00019.txt',\n",
      "     'KB_JB838_1961-05-13_01-00018.txt',\n",
      "     'KB_JB838_1961-06-23_01-00019.txt',\n",
      "     'KB_JB838_1961-06-30_01-00019.txt',\n",
      "     'KB_JB838_1961-07-11_01-00018.txt',\n",
      "     'KB_JB838_1961-07-29_01-00017.txt',\n",
      "     'KB_JB838_1961-10-10_01-00016.txt',\n",
      "     'KB_JB838_1961-10-21_01-00018.txt',\n",
      "     'KB_JB838_1962-01-09_01-00015.txt',\n",
      "     'KB_JB838_1962-01-16_01-00018.txt',\n",
      "     'KB_JB838_1962-02-01_01-00018.txt',\n",
      "     'KB_JB838_1962-02-25_01-00024.txt',\n",
      "     'KB_JB838_1962-04-21_01-00022.txt',\n",
      "     'KB_JB838_1962-05-05_01-00023.txt',\n",
      "     'KB_JB838_1962-06-27_01-00021.txt',\n",
      "     'KB_JB838_1962-10-14_01-00023.txt',\n",
      "     'KB_JB838_1962-10-31_01-00019.txt',\n",
      "     'KB_JB838_1962-12-08_01-00020.txt',\n",
      "     'KB_JB838_1962-12-09_01-00025.txt',\n",
      "     'KB_JB838_1962-12-22_01-00024.txt',\n",
      "     'KB_JB838_1963-02-08_01-00016.txt',\n",
      "     'KB_JB838_1963-04-07_01-00024.txt',\n",
      "     'KB_JB838_1963-04-18_01-00020.txt',\n",
      "     'KB_JB838_1963-04-21_01-00027.txt',\n",
      "     'KB_JB838_1963-04-28_01-00029.txt',\n",
      "     'KB_JB838_1963-05-01_01-00020.txt',\n",
      "     'KB_JB838_1963-09-06_01-00021.txt',\n",
      "     'KB_JB838_1963-09-07_01-00020.txt',\n",
      "     'KB_JB838_1963-09-08_01-00026.txt',\n",
      "     'KB_JB838_1963-09-27_01-00018.txt',\n",
      "     'KB_JB838_1963-10-01_01-00022.txt',\n",
      "     'KB_JB838_1963-10-13_01-00028.txt',\n",
      "     'KB_JB838_1963-10-20_01-00023.txt',\n",
      "     'KB_JB838_1963-10-27_01-00028.txt',\n",
      "     'KB_JB838_1963-11-03_01-00023.txt',\n",
      "     'KB_JB838_1963-11-17_01-00027.txt',\n",
      "     'KB_JB838_1963-11-23_01-00024.txt',\n",
      "     'KB_JB838_1964-01-29_01-00017.txt',\n",
      "     'KB_JB838_1964-02-08_01-00022.txt',\n",
      "     'KB_JB838_1964-03-15_01-00022.txt',\n",
      "     'KB_JB838_1964-06-17_01-00018.txt',\n",
      "     'KB_JB838_1964-07-24_01-00016.txt',\n",
      "     'KB_JB838_1964-08-08_01-00017.txt',\n",
      "     'KB_JB838_1964-09-25_01-00023.txt',\n",
      "     'KB_JB838_1964-10-27_01-00018.txt',\n",
      "     'KB_JB838_1964-10-31_01-00021.txt',\n",
      "     'KB_JB838_1964-11-15_01-00023.txt',\n",
      "     'KB_JB838_1964-12-01_01-00022.txt',\n",
      "     'KB_JB838_1965-01-10_01-00020.txt',\n",
      "     'KB_JB838_1965-01-22_01-00017.txt',\n",
      "     'KB_JB838_1965-04-03_01-00024.txt',\n",
      "     'KB_JB838_1965-04-11_01-00026.txt',\n",
      "     'KB_JB838_1965-04-23_01-00023.txt',\n",
      "     'KB_JB838_1965-05-05_01-00022.txt',\n",
      "     'KB_JB838_1965-05-11_01-00023.txt',\n",
      "     'KB_JB838_1965-05-30_01-00026.txt',\n",
      "     'KB_JB838_1965-06-27_01-00025.txt',\n",
      "     'KB_JB838_1965-08-08_01-00020.txt',\n",
      "     'KB_JB838_1965-08-08_01-00025.txt',\n",
      "     'KB_JB838_1965-09-08_01-00019.txt',\n",
      "     'KB_JB838_1965-09-12_01-00030.txt',\n",
      "     'KB_JB838_1965-09-28_01-00017.txt',\n",
      "     'KB_JB838_1965-10-15_01-00021.txt',\n",
      "     'KB_JB838_1965-10-19_01-00019.txt',\n",
      "     'KB_JB838_1965-10-22_01-00016.txt',\n",
      "     'KB_JB838_1965-11-14_01-00027.txt',\n",
      "     'KB_JB838_1965-11-21_01-00023.txt',\n",
      "     'KB_JB838_1965-11-23_01-00021.txt',\n",
      "     'KB_JB838_1965-12-11_01-00022.txt',\n",
      "     'KB_JB838_1966-01-08_01-00019.txt',\n",
      "     'KB_JB838_1966-01-22_01-00023.txt',\n",
      "     'KB_JB838_1966-01-28_01-00018.txt',\n",
      "     'KB_JB838_1966-03-01_01-00020.txt',\n",
      "     'KB_JB838_1966-03-05_01-00024.txt',\n",
      "     'KB_JB838_1966-03-25_01-00026.txt',\n",
      "     'KB_JB838_1966-04-10_01-00027.txt',\n",
      "     'KB_JB838_1966-05-24_01-00023.txt',\n",
      "     'KB_JB838_1966-06-18_01-00028.txt',\n",
      "     'KB_JB838_1966-07-17_01-00022.txt',\n",
      "     'KB_JB838_1966-08-17_01-00017.txt',\n",
      "     'KB_JB838_1966-08-21_01-00023.txt',\n",
      "     'KB_JB838_1966-09-02_01-00021.txt',\n",
      "     'KB_JB838_1966-09-16_01-00023.txt',\n",
      "     'KB_JB838_1966-09-27_01-00021.txt',\n",
      "     'KB_JB838_1966-09-29_01-00026.txt',\n",
      "     'KB_JB838_1966-10-04_01-00018.txt',\n",
      "     'KB_JB838_1966-10-18_01-00024.txt',\n",
      "     'KB_JB838_1966-10-20_01-00024.txt',\n",
      "     'KB_JB838_1966-11-17_01-00022.txt',\n",
      "     'KB_JB838_1966-11-20_01-00023.txt',\n",
      "     'KB_JB838_1966-12-03_01-00024.txt',\n",
      "     'KB_JB838_1966-12-15_01-00027.txt',\n",
      "     'KB_JB838_1967-01-13_01-00017.txt',\n",
      "     'KB_JB838_1967-01-13_01-00018.txt',\n",
      "     'KB_JB838_1967-01-14_01-00027.txt',\n",
      "     'KB_JB838_1967-01-22_01-00028.txt',\n",
      "     'KB_JB838_1967-01-27_01-00019.txt',\n",
      "     'KB_JB838_1967-02-05_01-00028.txt',\n",
      "     'KB_JB838_1967-02-23_01-00022.txt',\n",
      "     'KB_JB838_1967-04-16_01-00027.txt',\n",
      "     'KB_JB838_1967-05-04_01-00025.txt',\n",
      "     'KB_JB838_1967-05-19_01-00022.txt',\n",
      "     'KB_JB838_1967-06-14_01-00021.txt',\n",
      "     'KB_JB838_1967-07-02_01-00023.txt',\n",
      "     'KB_JB838_1967-07-08_01-00021.txt',\n",
      "     'KB_JB838_1967-07-08_01-00022.txt',\n",
      "     'KB_JB838_1967-07-15_01-00024.txt',\n",
      "     'KB_JB838_1967-09-13_01-00022.txt',\n",
      "     'KB_JB838_1967-09-27_01-00023.txt',\n",
      "     'KB_JB838_1967-10-05_01-00026.txt',\n",
      "     'KB_JB838_1967-10-10_01-00022.txt',\n",
      "     'KB_JB838_1967-10-17_01-00022.txt',\n",
      "     'KB_JB838_1967-11-12_01-00033.txt',\n",
      "     'KB_JB838_1968-01-07_01-00025.txt',\n",
      "     'KB_JB838_1968-01-10_01-00018.txt',\n",
      "     'KB_JB838_1968-02-04_01-00023.txt',\n",
      "     'KB_JB838_1968-02-22_01-00023.txt',\n",
      "     'KB_JB838_1968-03-06_01-00019.txt',\n",
      "     'KB_JB838_1968-04-16_01-00027.txt',\n",
      "     'KB_JB838_1968-06-16_01-00029.txt',\n",
      "     'KB_JB838_1968-07-14_01-00027.txt',\n",
      "     'KB_JB838_1968-07-19_01-00017.txt',\n",
      "     'KB_JB838_1968-08-14_01-00017.txt',\n",
      "     'KB_JB838_1968-08-18_01-00024.txt',\n",
      "     'KB_JB838_1968-08-22_01-00021.txt',\n",
      "     'KB_JB838_1968-09-22_01-00029.txt',\n",
      "     'KB_JB838_1968-09-25_01-00024.txt',\n",
      "     'KB_JB838_1968-09-28_01-00031.txt',\n",
      "     'KB_JB838_1968-09-28_01-00032.txt',\n",
      "     'KB_JB838_1968-10-27_01-00036.txt',\n",
      "     'KB_JB838_1968-11-30_01-00029.txt',\n",
      "     'KB_JB838_1968-12-05_01-00026.txt',\n",
      "     'KB_JB838_1968-12-22_01-00033.txt',\n",
      "     'KB_JB838_1969-02-05_01-00021.txt',\n",
      "     'KB_JB838_1969-02-07_01-00019.txt',\n",
      "     'KB_JB838_1969-02-16_01-00031.txt',\n",
      "     'KB_JB838_1969-03-06_01-00021.txt',\n",
      "     'KB_JB838_1969-03-06_01-00022.txt',\n",
      "     'KB_JB838_1969-03-25_01-00025.txt',\n",
      "     'KB_JB838_1969-04-02_01-00021.txt',\n",
      "     'KB_JB838_1969-04-13_01-00035.txt',\n",
      "     'KB_JB838_1969-04-18_01-00025.txt',\n",
      "     'KB_JB838_1969-04-25_01-00026.txt',\n",
      "     'KB_JB838_1969-05-01_01-00032.txt',\n",
      "     'KB_JB838_1969-05-17_01-00029.txt',\n",
      "     'KB_JB838_1969-05-21_01-00026.txt',\n",
      "     'KB_JB838_1969-05-29_01-00029.txt',\n",
      "     'KB_JB838_1969-05-30_01-00025.txt',\n",
      "     'KB_JB838_1969-06-01_01-00026.txt',\n",
      "     'KB_JB838_1969-06-11_01-00023.txt',\n",
      "     'KB_JB838_1969-06-12_01-00029.txt',\n",
      "     'KB_JB838_1969-08-14_01-00024.txt',\n",
      "     'KB_JB838_1969-09-05_01-00024.txt',\n",
      "     'KB_JB838_1969-09-11_01-00027.txt',\n",
      "     'KB_JB838_1969-10-24_01-00026.txt',\n",
      "     'KB_JB838_1969-10-26_01-00038.txt',\n",
      "     'KB_JB838_1969-11-21_01-00024.txt',\n",
      "     'KB_JB838_1969-11-22_01-00033.txt',\n",
      "     'KB_JB838_1969-12-09_01-00022.txt',\n",
      "     'KB_JB838_1969-12-14_01-00028.txt',\n",
      "     'KB_JB838_1969-12-30_01-00018.txt'],\n",
      " 1: ['KB_JB838_1960-01-12_01-00011.txt',\n",
      "     'KB_JB838_1960-01-13_01-00009.txt',\n",
      "     'KB_JB838_1960-01-27_01-00006.txt',\n",
      "     'KB_JB838_1960-01-28_01-00011.txt',\n",
      "     'KB_JB838_1960-01-28_01-00021.txt',\n",
      "     'KB_JB838_1960-01-30_01-00007.txt',\n",
      "     'KB_JB838_1960-01-31_01-00024.txt',\n",
      "     'KB_JB838_1960-02-19_01-00011.txt',\n",
      "     'KB_JB838_1960-02-20_01-00006.txt',\n",
      "     'KB_JB838_1960-02-26_01-00001.txt',\n",
      "     'KB_JB838_1960-02-26_01-00011.txt',\n",
      "     'KB_JB838_1960-03-04_01-00010.txt',\n",
      "     'KB_JB838_1960-03-06_01-00004.txt',\n",
      "     'KB_JB838_1960-03-08_01-00008.txt',\n",
      "     'KB_JB838_1960-03-09_01-00001.txt',\n",
      "     'KB_JB838_1960-03-12_01-00007.txt',\n",
      "     'KB_JB838_1960-03-13_01-00009.txt',\n",
      "     'KB_JB838_1960-03-16_01-00007.txt',\n",
      "     'KB_JB838_1960-03-18_01-00009.txt',\n",
      "     'KB_JB838_1960-03-20_01-00014.txt',\n",
      "     'KB_JB838_1960-04-05_01-00004.txt',\n",
      "     'KB_JB838_1960-04-06_01-00008.txt',\n",
      "     'KB_JB838_1960-04-13_01-00002.txt',\n",
      "     'KB_JB838_1960-04-16_01-00002.txt',\n",
      "     'KB_JB838_1960-04-23_01-00005.txt',\n",
      "     'KB_JB838_1960-05-03_01-00013.txt',\n",
      "     'KB_JB838_1960-05-19_01-00004.txt',\n",
      "     'KB_JB838_1960-05-27_01-00007.txt',\n",
      "     'KB_JB838_1960-05-28_01-00008.txt',\n",
      "     'KB_JB838_1960-05-29_01-00005.txt',\n",
      "     'KB_JB838_1960-06-01_01-00011.txt',\n",
      "     'KB_JB838_1960-06-23_01-00010.txt',\n",
      "     'KB_JB838_1960-07-05_01-00004.txt',\n",
      "     'KB_JB838_1960-07-10_01-00001.txt',\n",
      "     'KB_JB838_1960-07-13_01-00006.txt',\n",
      "     'KB_JB838_1960-07-13_01-00012.txt',\n",
      "     'KB_JB838_1960-07-26_01-00004.txt',\n",
      "     'KB_JB838_1960-07-30_01-00006.txt',\n",
      "     'KB_JB838_1960-08-04_01-00001.txt',\n",
      "     'KB_JB838_1960-08-05_01-00007.txt',\n",
      "     'KB_JB838_1960-08-05_01-00014.txt',\n",
      "     'KB_JB838_1960-08-06_01-00005.txt',\n",
      "     'KB_JB838_1960-08-17_01-00009.txt',\n",
      "     'KB_JB838_1960-08-23_01-00002.txt',\n",
      "     'KB_JB838_1960-08-27_01-00011.txt',\n",
      "     'KB_JB838_1960-09-02_01-00013.txt',\n",
      "     'KB_JB838_1960-09-07_01-00008.txt',\n",
      "     'KB_JB838_1960-09-27_01-00009.txt',\n",
      "     'KB_JB838_1960-10-18_01-00004.txt',\n",
      "     'KB_JB838_1960-10-21_01-00024.txt',\n",
      "     'KB_JB838_1960-10-22_01-00003.txt',\n",
      "     'KB_JB838_1960-10-26_01-00001.txt',\n",
      "     'KB_JB838_1960-10-28_01-00002.txt',\n",
      "     'KB_JB838_1960-10-30_01-00007.txt',\n",
      "     'KB_JB838_1960-11-01_01-00013.txt',\n",
      "     'KB_JB838_1960-11-05_01-00004.txt',\n",
      "     'KB_JB838_1960-11-11_01-00002.txt',\n",
      "     'KB_JB838_1960-11-24_01-00001.txt',\n",
      "     'KB_JB838_1960-12-02_01-00004.txt',\n",
      "     'KB_JB838_1960-12-04_01-00014.txt',\n",
      "     'KB_JB838_1960-12-06_01-00011.txt',\n",
      "     'KB_JB838_1961-01-14_01-00013.txt',\n",
      "     'KB_JB838_1961-01-19_01-00006.txt',\n",
      "     'KB_JB838_1961-01-22_01-00006.txt',\n",
      "     'KB_JB838_1961-01-27_01-00006.txt',\n",
      "     'KB_JB838_1961-02-04_01-00004.txt',\n",
      "     'KB_JB838_1961-02-12_01-00012.txt',\n",
      "     'KB_JB838_1961-02-17_01-00012.txt',\n",
      "     'KB_JB838_1961-02-21_01-00013.txt',\n",
      "     'KB_JB838_1961-02-25_01-00004.txt',\n",
      "     'KB_JB838_1961-03-01_01-00011.txt',\n",
      "     'KB_JB838_1961-03-07_01-00006.txt',\n",
      "     'KB_JB838_1961-03-08_01-00012.txt',\n",
      "     'KB_JB838_1961-03-31_01-00010.txt',\n",
      "     'KB_JB838_1961-04-02_01-00013.txt',\n",
      "     'KB_JB838_1961-04-04_01-00010.txt',\n",
      "     'KB_JB838_1961-04-14_01-00003.txt',\n",
      "     'KB_JB838_1961-04-22_01-00006.txt',\n",
      "     'KB_JB838_1961-04-30_01-00007.txt',\n",
      "     'KB_JB838_1961-05-04_01-00006.txt',\n",
      "     'KB_JB838_1961-05-09_01-00002.txt',\n",
      "     'KB_JB838_1961-06-07_01-00006.txt',\n",
      "     'KB_JB838_1961-06-14_01-00012.txt',\n",
      "     'KB_JB838_1961-06-16_01-00024.txt',\n",
      "     'KB_JB838_1961-06-23_01-00005.txt',\n",
      "     'KB_JB838_1961-06-23_01-00011.txt',\n",
      "     'KB_JB838_1961-06-25_01-00001.txt',\n",
      "     'KB_JB838_1961-06-30_01-00013.txt',\n",
      "     'KB_JB838_1961-07-01_01-00011.txt',\n",
      "     'KB_JB838_1961-07-15_01-00006.txt',\n",
      "     'KB_JB838_1961-07-16_01-00004.txt',\n",
      "     'KB_JB838_1961-08-05_01-00002.txt',\n",
      "     'KB_JB838_1961-08-27_01-00008.txt',\n",
      "     'KB_JB838_1961-09-08_01-00024.txt',\n",
      "     'KB_JB838_1961-09-10_01-00001.txt',\n",
      "     'KB_JB838_1961-09-12_01-00012.txt',\n",
      "     'KB_JB838_1961-09-13_01-00011.txt',\n",
      "     'KB_JB838_1961-09-14_01-00006.txt',\n",
      "     'KB_JB838_1961-09-19_01-00009.txt',\n",
      "     'KB_JB838_1961-09-21_01-00011.txt',\n",
      "     'KB_JB838_1961-10-08_01-00011.txt',\n",
      "     'KB_JB838_1961-10-27_01-00004.txt',\n",
      "     'KB_JB838_1961-10-29_01-00012.txt',\n",
      "     'KB_JB838_1961-11-07_01-00005.txt',\n",
      "     'KB_JB838_1961-11-17_01-00024.txt',\n",
      "     'KB_JB838_1961-11-23_01-00014.txt',\n",
      "     'KB_JB838_1961-12-02_01-00003.txt',\n",
      "     'KB_JB838_1961-12-02_01-00007.txt',\n",
      "     'KB_JB838_1961-12-03_01-00001.txt',\n",
      "     'KB_JB838_1961-12-05_01-00001.txt',\n",
      "     'KB_JB838_1961-12-09_01-00024.txt',\n",
      "     'KB_JB838_1961-12-13_01-00010.txt',\n",
      "     'KB_JB838_1961-12-14_01-00011.txt',\n",
      "     'KB_JB838_1961-12-15_01-00024.txt',\n",
      "     'KB_JB838_1961-12-17_01-00006.txt',\n",
      "     'KB_JB838_1961-12-24_01-00012.txt',\n",
      "     'KB_JB838_1961-12-26_01-00003.txt',\n",
      "     'KB_JB838_1961-12-28_01-00004.txt',\n",
      "     'KB_JB838_1962-01-09_01-00012.txt',\n",
      "     'KB_JB838_1962-01-21_01-00030.txt',\n",
      "     'KB_JB838_1962-01-25_01-00009.txt',\n",
      "     'KB_JB838_1962-01-25_01-00011.txt',\n",
      "     'KB_JB838_1962-02-20_01-00011.txt',\n",
      "     'KB_JB838_1962-02-24_01-00001.txt',\n",
      "     'KB_JB838_1962-02-24_01-00010.txt',\n",
      "     'KB_JB838_1962-02-25_01-00015.txt',\n",
      "     'KB_JB838_1962-03-04_01-00011.txt',\n",
      "     'KB_JB838_1962-03-06_01-00009.txt',\n",
      "     'KB_JB838_1962-03-09_01-00008.txt',\n",
      "     'KB_JB838_1962-03-27_01-00008.txt',\n",
      "     'KB_JB838_1962-04-06_01-00003.txt',\n",
      "     'KB_JB838_1962-04-06_01-00009.txt',\n",
      "     'KB_JB838_1962-04-12_01-00002.txt',\n",
      "     'KB_JB838_1962-04-17_01-00010.txt',\n",
      "     'KB_JB838_1962-04-18_01-00001.txt',\n",
      "     'KB_JB838_1962-04-21_01-00010.txt',\n",
      "     'KB_JB838_1962-04-27_01-00032.txt',\n",
      "     'KB_JB838_1962-04-28_01-00005.txt',\n",
      "     'KB_JB838_1962-05-01_01-00010.txt',\n",
      "     'KB_JB838_1962-05-01_01-00018.txt',\n",
      "     'KB_JB838_1962-05-09_01-00006.txt',\n",
      "     'KB_JB838_1962-05-12_01-00002.txt',\n",
      "     'KB_JB838_1962-05-19_01-00011.txt',\n",
      "     'KB_JB838_1962-05-22_01-00007.txt',\n",
      "     'KB_JB838_1962-06-08_01-00024.txt',\n",
      "     'KB_JB838_1962-06-09_01-00011.txt',\n",
      "     'KB_JB838_1962-06-24_01-00010.txt',\n",
      "     'KB_JB838_1962-06-26_01-00003.txt',\n",
      "     'KB_JB838_1962-06-27_01-00001.txt',\n",
      "     'KB_JB838_1962-06-27_01-00010.txt',\n",
      "     'KB_JB838_1962-07-08_01-00012.txt',\n",
      "     'KB_JB838_1962-07-23_01-00010.txt',\n",
      "     'KB_JB838_1962-07-27_01-00012.txt',\n",
      "     'KB_JB838_1962-07-31_01-00009.txt',\n",
      "     'KB_JB838_1962-08-05_01-00007.txt',\n",
      "     'KB_JB838_1962-08-08_01-00010.txt',\n",
      "     'KB_JB838_1962-08-11_01-00003.txt',\n",
      "     'KB_JB838_1962-08-16_01-00003.txt',\n",
      "     'KB_JB838_1962-08-19_01-00006.txt',\n",
      "     'KB_JB838_1962-08-25_01-00002.txt',\n",
      "     'KB_JB838_1962-08-26_01-00011.txt',\n",
      "     'KB_JB838_1962-08-29_01-00002.txt',\n",
      "     'KB_JB838_1962-09-05_01-00006.txt',\n",
      "     'KB_JB838_1962-09-11_01-00009.txt',\n",
      "     'KB_JB838_1962-09-11_01-00010.txt',\n",
      "     'KB_JB838_1962-09-21_01-00013.txt',\n",
      "     'KB_JB838_1962-09-23_01-00008.txt',\n",
      "     'KB_JB838_1962-09-26_01-00009.txt',\n",
      "     'KB_JB838_1962-10-14_01-00011.txt',\n",
      "     'KB_JB838_1962-10-19_01-00007.txt',\n",
      "     'KB_JB838_1962-10-26_01-00011.txt',\n",
      "     'KB_JB838_1962-11-04_01-00003.txt',\n",
      "     'KB_JB838_1962-11-15_01-00004.txt',\n",
      "     'KB_JB838_1962-11-22_01-00007.txt',\n",
      "     'KB_JB838_1962-11-23_01-00009.txt',\n",
      "     'KB_JB838_1962-11-30_01-00009.txt',\n",
      "     'KB_JB838_1962-12-09_01-00015.txt',\n",
      "     'KB_JB838_1962-12-11_01-00010.txt',\n",
      "     'KB_JB838_1962-12-13_01-00006.txt',\n",
      "     'KB_JB838_1962-12-18_01-00009.txt',\n",
      "     'KB_JB838_1962-12-27_01-00009.txt',\n",
      "     'KB_JB838_1963-01-13_01-00016.txt',\n",
      "     'KB_JB838_1963-01-17_01-00001.txt',\n",
      "     'KB_JB838_1963-01-31_01-00002.txt',\n",
      "     'KB_JB838_1963-02-06_01-00010.txt',\n",
      "     'KB_JB838_1963-02-08_01-00007.txt',\n",
      "     'KB_JB838_1963-02-12_01-00006.txt',\n",
      "     'KB_JB838_1963-02-14_01-00006.txt',\n",
      "     'KB_JB838_1963-02-17_01-00016.txt',\n",
      "     'KB_JB838_1963-02-20_01-00010.txt',\n",
      "     'KB_JB838_1963-02-27_01-00001.txt',\n",
      "     'KB_JB838_1963-03-14_01-00015.txt',\n",
      "     'KB_JB838_1963-03-16_01-00005.txt',\n",
      "     'KB_JB838_1963-03-20_01-00012.txt',\n",
      "     'KB_JB838_1963-03-21_01-00005.txt',\n",
      "     'KB_JB838_1963-03-21_01-00008.txt',\n",
      "     'KB_JB838_1963-03-22_01-00014.txt',\n",
      "     'KB_JB838_1963-03-27_01-00014.txt',\n",
      "     'KB_JB838_1963-03-29_01-00007.txt',\n",
      "     'KB_JB838_1963-04-05_01-00003.txt',\n",
      "     'KB_JB838_1963-04-06_01-00015.txt',\n",
      "     'KB_JB838_1963-04-13_01-00007.txt',\n",
      "     'KB_JB838_1963-04-20_01-00006.txt',\n",
      "     'KB_JB838_1963-04-20_01-00007.txt',\n",
      "     'KB_JB838_1963-04-21_01-00006.txt',\n",
      "     'KB_JB838_1963-04-26_01-00004.txt',\n",
      "     'KB_JB838_1963-04-28_01-00001.txt',\n",
      "     'KB_JB838_1963-05-01_01-00015.txt',\n",
      "     'KB_JB838_1963-05-02_01-00009.txt',\n",
      "     'KB_JB838_1963-05-03_01-00006.txt',\n",
      "     'KB_JB838_1963-05-04_01-00003.txt',\n",
      "     'KB_JB838_1963-05-05_01-00011.txt',\n",
      "     'KB_JB838_1963-05-18_01-00011.txt',\n",
      "     'KB_JB838_1963-06-11_01-00010.txt',\n",
      "     'KB_JB838_1963-06-16_01-00001.txt',\n",
      "     'KB_JB838_1963-06-18_01-00007.txt',\n",
      "     'KB_JB838_1963-06-29_01-00030.txt',\n",
      "     'KB_JB838_1963-07-10_01-00008.txt',\n",
      "     'KB_JB838_1963-07-11_01-00006.txt',\n",
      "     'KB_JB838_1963-07-12_01-00022.txt',\n",
      "     'KB_JB838_1963-07-16_01-00010.txt',\n",
      "     'KB_JB838_1963-07-28_01-00010.txt',\n",
      "     'KB_JB838_1963-07-31_01-00008.txt',\n",
      "     'KB_JB838_1963-08-14_01-00008.txt',\n",
      "     'KB_JB838_1963-08-15_01-00001.txt',\n",
      "     'KB_JB838_1963-08-21_01-00003.txt',\n",
      "     'KB_JB838_1963-08-24_01-00024.txt',\n",
      "     'KB_JB838_1963-08-29_01-00011.txt',\n",
      "     'KB_JB838_1963-09-08_01-00011.txt',\n",
      "     'KB_JB838_1963-09-22_01-00006.txt',\n",
      "     'KB_JB838_1963-10-01_01-00009.txt',\n",
      "     'KB_JB838_1963-10-04_01-00014.txt',\n",
      "     'KB_JB838_1963-10-26_01-00003.txt',\n",
      "     'KB_JB838_1963-11-05_01-00004.txt',\n",
      "     'KB_JB838_1963-11-13_01-00001.txt',\n",
      "     'KB_JB838_1963-11-15_01-00013.txt',\n",
      "     'KB_JB838_1963-11-20_01-00011.txt',\n",
      "     'KB_JB838_1963-11-26_01-00001.txt',\n",
      "     'KB_JB838_1963-11-28_01-00001.txt',\n",
      "     'KB_JB838_1963-12-06_01-00007.txt',\n",
      "     'KB_JB838_1963-12-06_01-00014.txt',\n",
      "     'KB_JB838_1963-12-07_01-00012.txt',\n",
      "     'KB_JB838_1963-12-15_01-00011.txt',\n",
      "     'KB_JB838_1963-12-28_01-00004.txt',\n",
      "     'KB_JB838_1964-01-18_01-00008.txt',\n",
      "     'KB_JB838_1964-02-09_01-00002.txt',\n",
      "     'KB_JB838_1964-02-13_01-00012.txt',\n",
      "     'KB_JB838_1964-02-14_01-00008.txt',\n",
      "     'KB_JB838_1964-02-20_01-00003.txt',\n",
      "     'KB_JB838_1964-02-28_01-00008.txt',\n",
      "     'KB_JB838_1964-02-29_01-00005.txt',\n",
      "     'KB_JB838_1964-02-29_01-00011.txt',\n",
      "     'KB_JB838_1964-03-03_01-00003.txt',\n",
      "     'KB_JB838_1964-03-05_01-00003.txt',\n",
      "     'KB_JB838_1964-03-08_01-00003.txt',\n",
      "     'KB_JB838_1964-03-08_01-00013.txt',\n",
      "     'KB_JB838_1964-03-13_01-00008.txt',\n",
      "     'KB_JB838_1964-03-13_01-00012.txt',\n",
      "     'KB_JB838_1964-03-22_01-00012.txt',\n",
      "     'KB_JB838_1964-03-26_01-00005.txt',\n",
      "     'KB_JB838_1964-03-27_01-00015.txt',\n",
      "     'KB_JB838_1964-03-28_01-00001.txt',\n",
      "     'KB_JB838_1964-04-03_01-00016.txt',\n",
      "     'KB_JB838_1964-04-05_01-00014.txt',\n",
      "     'KB_JB838_1964-04-21_01-00006.txt',\n",
      "     'KB_JB838_1964-04-30_01-00002.txt',\n",
      "     'KB_JB838_1964-05-03_01-00003.txt',\n",
      "     'KB_JB838_1964-05-05_01-00008.txt',\n",
      "     'KB_JB838_1964-05-08_01-00004.txt',\n",
      "     'KB_JB838_1964-05-12_01-00010.txt',\n",
      "     'KB_JB838_1964-05-15_01-00014.txt',\n",
      "     'KB_JB838_1964-05-17_01-00005.txt',\n",
      "     'KB_JB838_1964-05-26_01-00008.txt',\n",
      "     'KB_JB838_1964-06-02_01-00001.txt',\n",
      "     'KB_JB838_1964-06-03_01-00003.txt',\n",
      "     'KB_JB838_1964-06-06_01-00004.txt',\n",
      "     'KB_JB838_1964-06-12_01-00007.txt',\n",
      "     'KB_JB838_1964-06-13_01-00004.txt',\n",
      "     'KB_JB838_1964-06-16_01-00003.txt',\n",
      "     'KB_JB838_1964-06-21_01-00004.txt',\n",
      "     'KB_JB838_1964-07-04_01-00009.txt',\n",
      "     'KB_JB838_1964-07-08_01-00001.txt',\n",
      "     'KB_JB838_1964-07-16_01-00014.txt',\n",
      "     'KB_JB838_1964-07-25_01-00003.txt',\n",
      "     'KB_JB838_1964-08-01_01-00006.txt',\n",
      "     'KB_JB838_1964-08-11_01-00002.txt',\n",
      "     'KB_JB838_1964-08-29_01-00004.txt',\n",
      "     'KB_JB838_1964-08-30_01-00015.txt',\n",
      "     'KB_JB838_1964-08-30_01-00030.txt',\n",
      "     'KB_JB838_1964-09-13_01-00002.txt',\n",
      "     'KB_JB838_1964-09-29_01-00010.txt',\n",
      "     'KB_JB838_1964-10-10_01-00005.txt',\n",
      "     'KB_JB838_1964-10-16_01-00005.txt',\n",
      "     'KB_JB838_1964-10-17_01-00016.txt',\n",
      "     'KB_JB838_1964-10-21_01-00016.txt',\n",
      "     'KB_JB838_1964-10-23_01-00006.txt',\n",
      "     'KB_JB838_1964-10-24_01-00008.txt',\n",
      "     'KB_JB838_1964-11-05_01-00005.txt',\n",
      "     'KB_JB838_1964-11-06_01-00010.txt',\n",
      "     'KB_JB838_1964-11-07_01-00006.txt',\n",
      "     'KB_JB838_1964-11-14_01-00002.txt',\n",
      "     'KB_JB838_1964-11-15_01-00003.txt',\n",
      "     'KB_JB838_1964-11-17_01-00013.txt',\n",
      "     'KB_JB838_1964-11-22_01-00012.txt',\n",
      "     'KB_JB838_1964-11-27_01-00013.txt',\n",
      "     'KB_JB838_1964-11-28_01-00009.txt',\n",
      "     'KB_JB838_1964-11-29_01-00007.txt',\n",
      "     'KB_JB838_1964-12-01_01-00004.txt',\n",
      "     'KB_JB838_1964-12-03_01-00004.txt',\n",
      "     'KB_JB838_1964-12-05_01-00009.txt',\n",
      "     'KB_JB838_1964-12-05_01-00011.txt',\n",
      "     'KB_JB838_1964-12-24_01-00015.txt',\n",
      "     'KB_JB838_1965-01-06_01-00014.txt',\n",
      "     'KB_JB838_1965-01-15_01-00009.txt',\n",
      "     'KB_JB838_1965-01-31_01-00014.txt',\n",
      "     'KB_JB838_1965-02-07_01-00003.txt',\n",
      "     'KB_JB838_1965-02-09_01-00009.txt',\n",
      "     'KB_JB838_1965-02-11_01-00005.txt',\n",
      "     'KB_JB838_1965-02-11_01-00009.txt',\n",
      "     'KB_JB838_1965-02-20_01-00002.txt',\n",
      "     'KB_JB838_1965-03-05_01-00002.txt',\n",
      "     'KB_JB838_1965-03-05_01-00004.txt',\n",
      "     'KB_JB838_1965-04-02_01-00014.txt',\n",
      "     'KB_JB838_1965-04-03_01-00003.txt',\n",
      "     'KB_JB838_1965-04-03_01-00006.txt',\n",
      "     'KB_JB838_1965-04-07_01-00031.txt',\n",
      "     'KB_JB838_1965-04-09_01-00023.txt',\n",
      "     'KB_JB838_1965-04-11_01-00008.txt',\n",
      "     'KB_JB838_1965-05-08_01-00032.txt',\n",
      "     'KB_JB838_1965-05-12_01-00005.txt',\n",
      "     'KB_JB838_1965-05-13_01-00001.txt',\n",
      "     'KB_JB838_1965-05-18_01-00004.txt',\n",
      "     'KB_JB838_1965-05-22_01-00012.txt',\n",
      "     'KB_JB838_1965-05-26_01-00010.txt',\n",
      "     'KB_JB838_1965-05-27_01-00008.txt',\n",
      "     'KB_JB838_1965-06-02_01-00012.txt',\n",
      "     'KB_JB838_1965-06-03_01-00003.txt',\n",
      "     'KB_JB838_1965-06-06_01-00008.txt',\n",
      "     'KB_JB838_1965-06-13_01-00012.txt',\n",
      "     'KB_JB838_1965-06-29_01-00001.txt',\n",
      "     'KB_JB838_1965-06-29_01-00002.txt',\n",
      "     'KB_JB838_1965-06-29_01-00008.txt',\n",
      "     'KB_JB838_1965-07-01_01-00013.txt',\n",
      "     'KB_JB838_1965-07-04_01-00007.txt',\n",
      "     'KB_JB838_1965-07-14_01-00002.txt',\n",
      "     'KB_JB838_1965-07-14_01-00015.txt',\n",
      "     'KB_JB838_1965-07-16_01-00011.txt',\n",
      "     'KB_JB838_1965-07-24_01-00006.txt',\n",
      "     'KB_JB838_1965-08-11_01-00007.txt',\n",
      "     'KB_JB838_1965-08-15_01-00005.txt',\n",
      "     'KB_JB838_1965-08-28_01-00004.txt',\n",
      "     'KB_JB838_1965-09-15_01-00005.txt',\n",
      "     'KB_JB838_1965-09-19_01-00011.txt',\n",
      "     'KB_JB838_1965-10-02_01-00006.txt',\n",
      "     'KB_JB838_1965-10-03_01-00001.txt',\n",
      "     'KB_JB838_1965-10-15_01-00010.txt',\n",
      "     'KB_JB838_1965-10-16_01-00002.txt',\n",
      "     'KB_JB838_1965-10-17_01-00013.txt',\n",
      "     'KB_JB838_1965-10-19_01-00005.txt',\n",
      "     'KB_JB838_1965-10-19_01-00009.txt',\n",
      "     'KB_JB838_1965-10-20_01-00013.txt',\n",
      "     'KB_JB838_1965-10-22_01-00022.txt',\n",
      "     'KB_JB838_1965-10-23_01-00001.txt',\n",
      "     'KB_JB838_1965-10-27_01-00002.txt',\n",
      "     'KB_JB838_1965-10-28_01-00009.txt',\n",
      "     'KB_JB838_1965-11-06_01-00006.txt',\n",
      "     'KB_JB838_1965-11-06_01-00009.txt',\n",
      "     'KB_JB838_1965-11-18_01-00006.txt',\n",
      "     'KB_JB838_1965-11-23_01-00024.txt',\n",
      "     'KB_JB838_1965-11-28_01-00017.txt',\n",
      "     'KB_JB838_1965-12-11_01-00017.txt',\n",
      "     'KB_JB838_1965-12-18_01-00001.txt',\n",
      "     'KB_JB838_1965-12-23_01-00011.txt',\n",
      "     'KB_JB838_1965-12-28_01-00010.txt',\n",
      "     'KB_JB838_1965-12-30_01-00009.txt',\n",
      "     'KB_JB838_1965-12-31_01-00005.txt',\n",
      "     'KB_JB838_1966-01-06_01-00009.txt',\n",
      "     'KB_JB838_1966-01-11_01-00006.txt',\n",
      "     'KB_JB838_1966-01-22_01-00010.txt',\n",
      "     'KB_JB838_1966-01-29_01-00013.txt',\n",
      "     'KB_JB838_1966-01-29_01-00016.txt',\n",
      "     'KB_JB838_1966-02-10_01-00001.txt',\n",
      "     'KB_JB838_1966-02-13_01-00001.txt',\n",
      "     'KB_JB838_1966-02-16_01-00006.txt',\n",
      "     'KB_JB838_1966-02-26_01-00002.txt',\n",
      "     'KB_JB838_1966-02-27_01-00002.txt',\n",
      "     'KB_JB838_1966-03-16_01-00007.txt',\n",
      "     'KB_JB838_1966-03-23_01-00014.txt',\n",
      "     'KB_JB838_1966-03-24_01-00015.txt',\n",
      "     'KB_JB838_1966-03-26_01-00007.txt',\n",
      "     'KB_JB838_1966-03-26_01-00011.txt',\n",
      "     'KB_JB838_1966-04-02_01-00005.txt',\n",
      "     'KB_JB838_1966-04-09_01-00012.txt',\n",
      "     'KB_JB838_1966-04-13_01-00015.txt',\n",
      "     'KB_JB838_1966-04-16_01-00014.txt',\n",
      "     'KB_JB838_1966-05-18_01-00008.txt',\n",
      "     'KB_JB838_1966-05-21_01-00004.txt',\n",
      "     'KB_JB838_1966-05-29_01-00013.txt',\n",
      "     'KB_JB838_1966-06-08_01-00007.txt',\n",
      "     'KB_JB838_1966-06-16_01-00010.txt',\n",
      "     'KB_JB838_1966-06-17_01-00002.txt',\n",
      "     'KB_JB838_1966-07-10_01-00004.txt',\n",
      "     'KB_JB838_1966-07-15_01-00004.txt',\n",
      "     'KB_JB838_1966-07-23_01-00005.txt',\n",
      "     'KB_JB838_1966-07-24_01-00009.txt',\n",
      "     'KB_JB838_1966-07-26_01-00013.txt',\n",
      "     'KB_JB838_1966-08-07_01-00005.txt',\n",
      "     'KB_JB838_1966-08-30_01-00011.txt',\n",
      "     'KB_JB838_1966-09-09_01-00004.txt',\n",
      "     'KB_JB838_1966-09-15_01-00008.txt',\n",
      "     'KB_JB838_1966-09-16_01-00006.txt',\n",
      "     'KB_JB838_1966-09-16_01-00011.txt',\n",
      "     'KB_JB838_1966-09-17_01-00005.txt',\n",
      "     'KB_JB838_1966-09-22_01-00006.txt',\n",
      "     'KB_JB838_1966-09-29_01-00013.txt',\n",
      "     'KB_JB838_1966-10-07_01-00015.txt',\n",
      "     'KB_JB838_1966-10-11_01-00014.txt',\n",
      "     'KB_JB838_1966-10-12_01-00015.txt',\n",
      "     'KB_JB838_1966-10-15_01-00004.txt',\n",
      "     'KB_JB838_1966-10-26_01-00007.txt',\n",
      "     'KB_JB838_1966-10-26_01-00014.txt',\n",
      "     'KB_JB838_1966-10-26_01-00016.txt',\n",
      "     'KB_JB838_1966-11-05_01-00016.txt',\n",
      "     'KB_JB838_1966-11-11_01-00013.txt',\n",
      "     'KB_JB838_1966-11-17_01-00008.txt',\n",
      "     'KB_JB838_1966-11-19_01-00010.txt',\n",
      "     'KB_JB838_1966-11-26_01-00016.txt',\n",
      "     'KB_JB838_1966-11-26_01-00032.txt',\n",
      "     'KB_JB838_1966-12-08_01-00012.txt',\n",
      "     'KB_JB838_1966-12-09_01-00012.txt',\n",
      "     'KB_JB838_1966-12-22_01-00001.txt',\n",
      "     'KB_JB838_1966-12-22_01-00007.txt',\n",
      "     'KB_JB838_1966-12-25_01-00013.txt',\n",
      "     'KB_JB838_1967-01-12_01-00005.txt',\n",
      "     'KB_JB838_1967-01-12_01-00009.txt',\n",
      "     'KB_JB838_1967-01-14_01-00030.txt',\n",
      "     'KB_JB838_1967-01-17_01-00005.txt',\n",
      "     'KB_JB838_1967-01-25_01-00008.txt',\n",
      "     'KB_JB838_1967-02-04_01-00007.txt',\n",
      "     'KB_JB838_1967-02-07_01-00008.txt',\n",
      "     'KB_JB838_1967-02-09_01-00009.txt',\n",
      "     'KB_JB838_1967-02-25_01-00005.txt',\n",
      "     'KB_JB838_1967-03-01_01-00007.txt',\n",
      "     'KB_JB838_1967-03-09_01-00008.txt',\n",
      "     'KB_JB838_1967-03-15_01-00011.txt',\n",
      "     'KB_JB838_1967-03-23_01-00017.txt',\n",
      "     'KB_JB838_1967-03-25_01-00005.txt',\n",
      "     'KB_JB838_1967-04-11_01-00004.txt',\n",
      "     'KB_JB838_1967-04-12_01-00008.txt',\n",
      "     'KB_JB838_1967-04-16_01-00006.txt',\n",
      "     'KB_JB838_1967-04-18_01-00007.txt',\n",
      "     'KB_JB838_1967-04-22_01-00013.txt',\n",
      "     'KB_JB838_1967-04-23_01-00015.txt',\n",
      "     'KB_JB838_1967-04-26_01-00012.txt',\n",
      "     'KB_JB838_1967-04-29_01-00005.txt',\n",
      "     'KB_JB838_1967-04-30_01-00010.txt',\n",
      "     'KB_JB838_1967-05-03_01-00004.txt',\n",
      "     'KB_JB838_1967-05-09_01-00009.txt',\n",
      "     'KB_JB838_1967-05-11_01-00032.txt',\n",
      "     'KB_JB838_1967-05-14_01-00013.txt',\n",
      "     'KB_JB838_1967-05-26_01-00013.txt',\n",
      "     'KB_JB838_1967-06-10_01-00016.txt',\n",
      "     'KB_JB838_1967-06-13_01-00008.txt',\n",
      "     'KB_JB838_1967-06-21_01-00008.txt',\n",
      "     'KB_JB838_1967-06-27_01-00013.txt',\n",
      "     'KB_JB838_1967-07-04_01-00006.txt',\n",
      "     'KB_JB838_1967-07-13_01-00012.txt',\n",
      "     'KB_JB838_1967-07-20_01-00015.txt',\n",
      "     'KB_JB838_1967-07-23_01-00011.txt',\n",
      "     'KB_JB838_1967-07-25_01-00002.txt',\n",
      "     'KB_JB838_1967-08-02_01-00005.txt',\n",
      "     'KB_JB838_1967-08-12_01-00004.txt',\n",
      "     'KB_JB838_1967-08-17_01-00012.txt',\n",
      "     'KB_JB838_1967-08-20_01-00028.txt',\n",
      "     'KB_JB838_1967-08-22_01-00018.txt',\n",
      "     'KB_JB838_1967-08-27_01-00001.txt',\n",
      "     'KB_JB838_1967-09-02_01-00001.txt',\n",
      "     'KB_JB838_1967-09-09_01-00002.txt',\n",
      "     'KB_JB838_1967-09-14_01-00003.txt',\n",
      "     'KB_JB838_1967-09-14_01-00006.txt',\n",
      "     'KB_JB838_1967-09-16_01-00005.txt',\n",
      "     'KB_JB838_1967-09-26_01-00007.txt',\n",
      "     'KB_JB838_1967-09-27_01-00012.txt',\n",
      "     'KB_JB838_1967-09-27_01-00013.txt',\n",
      "     'KB_JB838_1967-10-05_01-00013.txt',\n",
      "     'KB_JB838_1967-10-07_01-00008.txt',\n",
      "     'KB_JB838_1967-10-19_01-00007.txt',\n",
      "     'KB_JB838_1967-10-19_01-00018.txt',\n",
      "     'KB_JB838_1967-10-21_01-00015.txt',\n",
      "     'KB_JB838_1967-10-28_01-00007.txt',\n",
      "     'KB_JB838_1967-11-03_01-00011.txt',\n",
      "     'KB_JB838_1967-11-11_01-00006.txt',\n",
      "     'KB_JB838_1967-11-11_01-00007.txt',\n",
      "     'KB_JB838_1967-11-17_01-00013.txt',\n",
      "     'KB_JB838_1967-11-24_01-00014.txt',\n",
      "     'KB_JB838_1967-12-10_01-00015.txt',\n",
      "     'KB_JB838_1967-12-13_01-00006.txt',\n",
      "     'KB_JB838_1967-12-20_01-00008.txt',\n",
      "     'KB_JB838_1967-12-26_01-00009.txt',\n",
      "     'KB_JB838_1968-01-07_01-00007.txt',\n",
      "     'KB_JB838_1968-01-09_01-00020.txt',\n",
      "     'KB_JB838_1968-01-21_01-00002.txt',\n",
      "     'KB_JB838_1968-02-03_01-00012.txt',\n",
      "     'KB_JB838_1968-02-06_01-00011.txt',\n",
      "     'KB_JB838_1968-02-08_01-00008.txt',\n",
      "     'KB_JB838_1968-02-10_01-00006.txt',\n",
      "     'KB_JB838_1968-02-10_01-00011.txt',\n",
      "     'KB_JB838_1968-02-11_01-00013.txt',\n",
      "     'KB_JB838_1968-02-13_01-00002.txt',\n",
      "     'KB_JB838_1968-02-14_01-00012.txt',\n",
      "     'KB_JB838_1968-02-29_01-00011.txt',\n",
      "     'KB_JB838_1968-03-05_01-00009.txt',\n",
      "     'KB_JB838_1968-03-14_01-00010.txt',\n",
      "     'KB_JB838_1968-03-20_01-00004.txt',\n",
      "     'KB_JB838_1968-03-28_01-00004.txt',\n",
      "     'KB_JB838_1968-03-30_01-00012.txt',\n",
      "     'KB_JB838_1968-05-14_01-00004.txt',\n",
      "     'KB_JB838_1968-05-15_01-00005.txt',\n",
      "     'KB_JB838_1968-05-17_01-00013.txt',\n",
      "     'KB_JB838_1968-05-18_01-00011.txt',\n",
      "     'KB_JB838_1968-05-25_01-00012.txt',\n",
      "     'KB_JB838_1968-05-28_01-00014.txt',\n",
      "     'KB_JB838_1968-06-14_01-00006.txt',\n",
      "     'KB_JB838_1968-06-14_01-00014.txt',\n",
      "     'KB_JB838_1968-06-15_01-00005.txt',\n",
      "     'KB_JB838_1968-06-25_01-00003.txt',\n",
      "     'KB_JB838_1968-06-30_01-00017.txt',\n",
      "     'KB_JB838_1968-07-10_01-00022.txt',\n",
      "     'KB_JB838_1968-07-11_01-00015.txt',\n",
      "     'KB_JB838_1968-07-30_01-00012.txt',\n",
      "     'KB_JB838_1968-08-03_01-00015.txt',\n",
      "     'KB_JB838_1968-08-04_01-00012.txt',\n",
      "     'KB_JB838_1968-08-11_01-00006.txt',\n",
      "     'KB_JB838_1968-08-20_01-00010.txt',\n",
      "     'KB_JB838_1968-08-25_01-00002.txt',\n",
      "     'KB_JB838_1968-09-05_01-00005.txt',\n",
      "     'KB_JB838_1968-09-13_01-00010.txt',\n",
      "     'KB_JB838_1968-09-26_01-00014.txt',\n",
      "     'KB_JB838_1968-09-27_01-00007.txt',\n",
      "     'KB_JB838_1968-10-01_01-00006.txt',\n",
      "     'KB_JB838_1968-10-11_01-00002.txt',\n",
      "     'KB_JB838_1968-10-18_01-00010.txt',\n",
      "     'KB_JB838_1968-10-19_01-00018.txt',\n",
      "     'KB_JB838_1968-10-22_01-00004.txt',\n",
      "     'KB_JB838_1968-10-25_01-00005.txt',\n",
      "     'KB_JB838_1968-10-27_01-00018.txt',\n",
      "     'KB_JB838_1968-10-30_01-00005.txt',\n",
      "     'KB_JB838_1968-11-09_01-00004.txt',\n",
      "     'KB_JB838_1968-11-12_01-00002.txt',\n",
      "     'KB_JB838_1968-11-16_01-00018.txt',\n",
      "     'KB_JB838_1968-11-20_01-00001.txt',\n",
      "     'KB_JB838_1968-11-23_01-00014.txt',\n",
      "     'KB_JB838_1968-12-06_01-00011.txt',\n",
      "     'KB_JB838_1968-12-07_01-00018.txt',\n",
      "     'KB_JB838_1968-12-14_01-00027.txt',\n",
      "     'KB_JB838_1968-12-15_01-00007.txt',\n",
      "     'KB_JB838_1968-12-17_01-00002.txt',\n",
      "     'KB_JB838_1968-12-25_01-00010.txt',\n",
      "     'KB_JB838_1969-01-04_01-00014.txt',\n",
      "     'KB_JB838_1969-01-05_01-00012.txt',\n",
      "     'KB_JB838_1969-01-11_01-00010.txt',\n",
      "     'KB_JB838_1969-01-22_01-00015.txt',\n",
      "     'KB_JB838_1969-02-09_01-00007.txt',\n",
      "     'KB_JB838_1969-02-22_01-00011.txt',\n",
      "     'KB_JB838_1969-02-27_01-00032.txt',\n",
      "     'KB_JB838_1969-03-02_01-00005.txt',\n",
      "     'KB_JB838_1969-03-02_01-00018.txt',\n",
      "     'KB_JB838_1969-03-11_01-00003.txt',\n",
      "     'KB_JB838_1969-03-18_01-00014.txt',\n",
      "     'KB_JB838_1969-03-19_01-00003.txt',\n",
      "     'KB_JB838_1969-03-25_01-00017.txt',\n",
      "     'KB_JB838_1969-03-28_01-00005.txt',\n",
      "     'KB_JB838_1969-04-01_01-00007.txt',\n",
      "     'KB_JB838_1969-04-02_01-00014.txt',\n",
      "     'KB_JB838_1969-04-03_01-00034.txt',\n",
      "     'KB_JB838_1969-04-08_01-00014.txt',\n",
      "     'KB_JB838_1969-04-10_01-00006.txt',\n",
      "     'KB_JB838_1969-04-10_01-00009.txt',\n",
      "     'KB_JB838_1969-04-12_01-00007.txt',\n",
      "     'KB_JB838_1969-04-13_01-00013.txt',\n",
      "     'KB_JB838_1969-04-27_01-00011.txt',\n",
      "     'KB_JB838_1969-04-29_01-00007.txt',\n",
      "     'KB_JB838_1969-04-29_01-00016.txt',\n",
      "     'KB_JB838_1969-05-22_01-00017.txt',\n",
      "     'KB_JB838_1969-05-29_01-00013.txt',\n",
      "     'KB_JB838_1969-06-17_01-00015.txt',\n",
      "     'KB_JB838_1969-06-19_01-00007.txt',\n",
      "     'KB_JB838_1969-06-22_01-00031.txt',\n",
      "     'KB_JB838_1969-06-26_01-00012.txt',\n",
      "     'KB_JB838_1969-06-26_01-00014.txt',\n",
      "     'KB_JB838_1969-07-20_01-00005.txt',\n",
      "     'KB_JB838_1969-08-02_01-00007.txt',\n",
      "     'KB_JB838_1969-08-21_01-00014.txt',\n",
      "     'KB_JB838_1969-09-11_01-00007.txt',\n",
      "     'KB_JB838_1969-09-11_01-00010.txt',\n",
      "     'KB_JB838_1969-09-26_01-00010.txt',\n",
      "     'KB_JB838_1969-10-01_01-00028.txt',\n",
      "     'KB_JB838_1969-10-02_01-00009.txt',\n",
      "     'KB_JB838_1969-10-19_01-00011.txt',\n",
      "     'KB_JB838_1969-10-21_01-00018.txt',\n",
      "     'KB_JB838_1969-10-26_01-00011.txt',\n",
      "     'KB_JB838_1969-10-28_01-00008.txt',\n",
      "     'KB_JB838_1969-10-29_01-00001.txt',\n",
      "     'KB_JB838_1969-10-30_01-00013.txt',\n",
      "     'KB_JB838_1969-10-31_01-00018.txt',\n",
      "     'KB_JB838_1969-11-04_01-00014.txt',\n",
      "     'KB_JB838_1969-11-06_01-00013.txt',\n",
      "     'KB_JB838_1969-11-21_01-00010.txt',\n",
      "     'KB_JB838_1969-11-29_01-00012.txt',\n",
      "     'KB_JB838_1969-12-07_01-00008.txt',\n",
      "     'KB_JB838_1969-12-17_01-00002.txt',\n",
      "     'KB_JB838_1969-12-20_01-00003.txt'],\n",
      " 2: ['KB_JB838_1960-01-21_01-00014.txt',\n",
      "     'KB_JB838_1960-01-22_01-00015.txt',\n",
      "     'KB_JB838_1960-02-24_01-00020.txt',\n",
      "     'KB_JB838_1960-03-11_01-00022.txt',\n",
      "     'KB_JB838_1960-04-01_01-00022.txt',\n",
      "     'KB_JB838_1960-04-05_01-00016.txt',\n",
      "     'KB_JB838_1960-04-06_01-00023.txt',\n",
      "     'KB_JB838_1960-04-13_01-00017.txt',\n",
      "     'KB_JB838_1960-04-14_01-00016.txt',\n",
      "     'KB_JB838_1960-04-20_01-00016.txt',\n",
      "     'KB_JB838_1960-05-28_01-00021.txt',\n",
      "     'KB_JB838_1960-07-14_01-00015.txt',\n",
      "     'KB_JB838_1960-08-25_01-00021.txt',\n",
      "     'KB_JB838_1960-10-28_01-00014.txt',\n",
      "     'KB_JB838_1960-11-15_01-00016.txt',\n",
      "     'KB_JB838_1960-11-16_01-00022.txt',\n",
      "     'KB_JB838_1960-11-18_01-00017.txt',\n",
      "     'KB_JB838_1961-01-05_01-00016.txt',\n",
      "     'KB_JB838_1961-01-18_01-00023.txt',\n",
      "     'KB_JB838_1961-02-11_01-00023.txt',\n",
      "     'KB_JB838_1961-02-16_01-00015.txt',\n",
      "     'KB_JB838_1961-03-02_01-00016.txt',\n",
      "     'KB_JB838_1961-03-25_01-00012.txt',\n",
      "     'KB_JB838_1961-04-14_01-00015.txt',\n",
      "     'KB_JB838_1961-04-15_01-00016.txt',\n",
      "     'KB_JB838_1961-04-15_01-00020.txt',\n",
      "     'KB_JB838_1961-04-20_01-00022.txt',\n",
      "     'KB_JB838_1961-04-29_01-00022.txt',\n",
      "     'KB_JB838_1961-05-03_01-00024.txt',\n",
      "     'KB_JB838_1961-05-25_01-00023.txt',\n",
      "     'KB_JB838_1961-06-04_01-00017.txt',\n",
      "     'KB_JB838_1961-07-18_01-00019.txt',\n",
      "     'KB_JB838_1961-08-02_01-00017.txt',\n",
      "     'KB_JB838_1961-08-06_01-00014.txt',\n",
      "     'KB_JB838_1961-08-06_01-00016.txt',\n",
      "     'KB_JB838_1961-09-08_01-00015.txt',\n",
      "     'KB_JB838_1961-09-22_01-00023.txt',\n",
      "     'KB_JB838_1961-10-29_01-00026.txt',\n",
      "     'KB_JB838_1961-11-04_01-00013.txt',\n",
      "     'KB_JB838_1961-11-09_01-00016.txt',\n",
      "     'KB_JB838_1961-11-14_01-00020.txt',\n",
      "     'KB_JB838_1961-11-15_01-00024.txt',\n",
      "     'KB_JB838_1961-11-19_01-00022.txt',\n",
      "     'KB_JB838_1961-11-24_01-00018.txt',\n",
      "     'KB_JB838_1961-11-29_01-00023.txt',\n",
      "     'KB_JB838_1961-12-30_01-00015.txt',\n",
      "     'KB_JB838_1962-01-21_01-00027.txt',\n",
      "     'KB_JB838_1962-03-16_01-00016.txt',\n",
      "     'KB_JB838_1962-03-22_01-00023.txt',\n",
      "     'KB_JB838_1962-03-27_01-00013.txt',\n",
      "     'KB_JB838_1962-04-04_01-00021.txt',\n",
      "     'KB_JB838_1962-04-05_01-00025.txt',\n",
      "     'KB_JB838_1962-04-10_01-00021.txt',\n",
      "     'KB_JB838_1962-04-15_01-00021.txt',\n",
      "     'KB_JB838_1962-04-22_01-00017.txt',\n",
      "     'KB_JB838_1962-05-09_01-00017.txt',\n",
      "     'KB_JB838_1962-05-20_01-00019.txt',\n",
      "     'KB_JB838_1962-05-22_01-00011.txt',\n",
      "     'KB_JB838_1962-06-24_01-00021.txt',\n",
      "     'KB_JB838_1962-06-24_01-00031.txt',\n",
      "     'KB_JB838_1962-06-30_01-00018.txt',\n",
      "     'KB_JB838_1962-07-28_01-00015.txt',\n",
      "     'KB_JB838_1962-08-25_01-00021.txt',\n",
      "     'KB_JB838_1962-09-06_01-00023.txt',\n",
      "     'KB_JB838_1962-09-13_01-00016.txt',\n",
      "     'KB_JB838_1962-09-28_01-00016.txt',\n",
      "     'KB_JB838_1962-10-17_01-00015.txt',\n",
      "     'KB_JB838_1962-11-03_01-00025.txt',\n",
      "     'KB_JB838_1962-11-10_01-00020.txt',\n",
      "     'KB_JB838_1962-12-09_01-00018.txt',\n",
      "     'KB_JB838_1962-12-23_01-00027.txt',\n",
      "     'KB_JB838_1963-01-22_01-00015.txt',\n",
      "     'KB_JB838_1963-01-24_01-00013.txt',\n",
      "     'KB_JB838_1963-01-24_01-00019.txt',\n",
      "     'KB_JB838_1963-02-06_01-00021.txt',\n",
      "     'KB_JB838_1963-03-13_01-00015.txt',\n",
      "     'KB_JB838_1963-04-05_01-00019.txt',\n",
      "     'KB_JB838_1963-05-02_01-00018.txt',\n",
      "     'KB_JB838_1963-05-18_01-00020.txt',\n",
      "     'KB_JB838_1963-05-28_01-00021.txt',\n",
      "     'KB_JB838_1963-06-09_01-00020.txt',\n",
      "     'KB_JB838_1963-06-09_01-00029.txt',\n",
      "     'KB_JB838_1963-07-14_01-00017.txt',\n",
      "     'KB_JB838_1963-07-18_01-00015.txt',\n",
      "     'KB_JB838_1963-09-04_01-00020.txt',\n",
      "     'KB_JB838_1963-09-07_01-00015.txt',\n",
      "     'KB_JB838_1963-10-16_01-00024.txt',\n",
      "     'KB_JB838_1963-11-07_01-00026.txt',\n",
      "     'KB_JB838_1963-12-04_01-00016.txt',\n",
      "     'KB_JB838_1963-12-13_01-00016.txt',\n",
      "     'KB_JB838_1963-12-27_01-00016.txt',\n",
      "     'KB_JB838_1964-01-04_01-00025.txt',\n",
      "     'KB_JB838_1964-01-18_01-00018.txt',\n",
      "     'KB_JB838_1964-01-29_01-00015.txt',\n",
      "     'KB_JB838_1964-05-14_01-00015.txt',\n",
      "     'KB_JB838_1964-05-28_01-00027.txt',\n",
      "     'KB_JB838_1964-06-04_01-00015.txt',\n",
      "     'KB_JB838_1964-06-16_01-00013.txt',\n",
      "     'KB_JB838_1964-06-17_01-00023.txt',\n",
      "     'KB_JB838_1964-06-24_01-00022.txt',\n",
      "     'KB_JB838_1964-06-26_01-00023.txt',\n",
      "     'KB_JB838_1964-06-27_01-00019.txt',\n",
      "     'KB_JB838_1964-09-08_01-00014.txt',\n",
      "     'KB_JB838_1964-09-09_01-00016.txt',\n",
      "     'KB_JB838_1964-09-16_01-00024.txt',\n",
      "     'KB_JB838_1964-10-03_01-00031.txt',\n",
      "     'KB_JB838_1964-10-10_01-00019.txt',\n",
      "     'KB_JB838_1964-10-10_01-00020.txt',\n",
      "     'KB_JB838_1964-10-17_01-00030.txt',\n",
      "     'KB_JB838_1964-10-30_01-00020.txt',\n",
      "     'KB_JB838_1964-11-06_01-00017.txt',\n",
      "     'KB_JB838_1964-11-27_01-00025.txt',\n",
      "     'KB_JB838_1965-02-19_01-00014.txt',\n",
      "     'KB_JB838_1965-05-11_01-00016.txt',\n",
      "     'KB_JB838_1965-05-11_01-00025.txt',\n",
      "     'KB_JB838_1965-05-26_01-00017.txt',\n",
      "     'KB_JB838_1965-06-02_01-00019.txt',\n",
      "     'KB_JB838_1965-06-05_01-00029.txt',\n",
      "     'KB_JB838_1965-06-11_01-00015.txt',\n",
      "     'KB_JB838_1965-06-19_01-00027.txt',\n",
      "     'KB_JB838_1965-07-09_01-00015.txt',\n",
      "     'KB_JB838_1965-07-11_01-00029.txt',\n",
      "     'KB_JB838_1965-08-15_01-00016.txt',\n",
      "     'KB_JB838_1965-09-02_01-00018.txt',\n",
      "     'KB_JB838_1965-11-24_01-00016.txt',\n",
      "     'KB_JB838_1965-12-04_01-00020.txt',\n",
      "     'KB_JB838_1965-12-10_01-00023.txt',\n",
      "     'KB_JB838_1966-01-25_01-00013.txt',\n",
      "     'KB_JB838_1966-02-12_01-00019.txt',\n",
      "     'KB_JB838_1966-03-25_01-00021.txt',\n",
      "     'KB_JB838_1966-04-14_01-00016.txt',\n",
      "     'KB_JB838_1966-04-16_01-00017.txt',\n",
      "     'KB_JB838_1966-04-21_01-00030.txt',\n",
      "     'KB_JB838_1966-05-21_01-00028.txt',\n",
      "     'KB_JB838_1966-06-08_01-00026.txt',\n",
      "     'KB_JB838_1966-06-22_01-00025.txt',\n",
      "     'KB_JB838_1966-06-25_01-00021.txt',\n",
      "     'KB_JB838_1966-07-12_01-00017.txt',\n",
      "     'KB_JB838_1966-07-29_01-00019.txt',\n",
      "     'KB_JB838_1966-09-07_01-00021.txt',\n",
      "     'KB_JB838_1966-09-17_01-00019.txt',\n",
      "     'KB_JB838_1966-10-09_01-00030.txt',\n",
      "     'KB_JB838_1966-10-25_01-00013.txt',\n",
      "     'KB_JB838_1966-11-01_01-00014.txt',\n",
      "     'KB_JB838_1966-11-19_01-00017.txt',\n",
      "     'KB_JB838_1966-12-20_01-00023.txt',\n",
      "     'KB_JB838_1966-12-31_01-00016.txt',\n",
      "     'KB_JB838_1967-03-09_01-00018.txt',\n",
      "     'KB_JB838_1967-03-14_01-00017.txt',\n",
      "     'KB_JB838_1967-04-01_01-00020.txt',\n",
      "     'KB_JB838_1967-05-18_01-00017.txt',\n",
      "     'KB_JB838_1967-05-23_01-00018.txt',\n",
      "     'KB_JB838_1967-07-19_01-00020.txt',\n",
      "     'KB_JB838_1967-07-29_01-00018.txt',\n",
      "     'KB_JB838_1967-08-23_01-00017.txt',\n",
      "     'KB_JB838_1967-08-31_01-00016.txt',\n",
      "     'KB_JB838_1967-09-16_01-00020.txt',\n",
      "     'KB_JB838_1967-09-27_01-00018.txt',\n",
      "     'KB_JB838_1967-10-11_01-00025.txt',\n",
      "     'KB_JB838_1967-12-10_01-00035.txt',\n",
      "     'KB_JB838_1968-01-13_01-00021.txt',\n",
      "     'KB_JB838_1968-01-25_01-00026.txt',\n",
      "     'KB_JB838_1968-02-08_01-00025.txt',\n",
      "     'KB_JB838_1968-02-15_01-00027.txt',\n",
      "     'KB_JB838_1968-02-29_01-00022.txt',\n",
      "     'KB_JB838_1968-03-03_01-00022.txt',\n",
      "     'KB_JB838_1968-03-15_01-00019.txt',\n",
      "     'KB_JB838_1968-03-17_01-00022.txt',\n",
      "     'KB_JB838_1968-05-17_01-00023.txt',\n",
      "     'KB_JB838_1968-06-06_01-00016.txt',\n",
      "     'KB_JB838_1968-06-06_01-00020.txt',\n",
      "     'KB_JB838_1968-06-12_01-00019.txt',\n",
      "     'KB_JB838_1968-08-22_01-00020.txt',\n",
      "     'KB_JB838_1968-09-15_01-00022.txt',\n",
      "     'KB_JB838_1968-10-11_01-00018.txt',\n",
      "     'KB_JB838_1968-10-19_01-00025.txt',\n",
      "     'KB_JB838_1968-10-19_01-00026.txt',\n",
      "     'KB_JB838_1968-10-29_01-00024.txt',\n",
      "     'KB_JB838_1968-11-28_01-00018.txt',\n",
      "     'KB_JB838_1968-12-01_01-00022.txt',\n",
      "     'KB_JB838_1968-12-04_01-00018.txt',\n",
      "     'KB_JB838_1969-01-15_01-00017.txt',\n",
      "     'KB_JB838_1969-03-01_01-00023.txt',\n",
      "     'KB_JB838_1969-03-22_01-00018.txt',\n",
      "     'KB_JB838_1969-04-01_01-00018.txt',\n",
      "     'KB_JB838_1969-04-09_01-00026.txt',\n",
      "     'KB_JB838_1969-04-11_01-00019.txt',\n",
      "     'KB_JB838_1969-04-13_01-00023.txt',\n",
      "     'KB_JB838_1969-04-22_01-00021.txt',\n",
      "     'KB_JB838_1969-04-30_01-00018.txt',\n",
      "     'KB_JB838_1969-05-31_01-00020.txt',\n",
      "     'KB_JB838_1969-07-12_01-00020.txt',\n",
      "     'KB_JB838_1969-08-09_01-00016.txt',\n",
      "     'KB_JB838_1969-08-10_01-00017.txt',\n",
      "     'KB_JB838_1969-10-15_01-00019.txt',\n",
      "     'KB_JB838_1969-10-15_01-00020.txt',\n",
      "     'KB_JB838_1969-10-17_01-00020.txt',\n",
      "     'KB_JB838_1969-10-24_01-00029.txt',\n",
      "     'KB_JB838_1969-11-04_01-00019.txt']}\n"
     ]
    }
   ],
   "source": [
    "pprint(dict(clustering))"
   ]
  },
  {
   "cell_type": "markdown",
   "metadata": {},
   "source": [
    "### Visualiser les clusters"
   ]
  },
  {
   "cell_type": "code",
   "execution_count": 29,
   "metadata": {},
   "outputs": [],
   "source": [
    "# Réduire les vecteurs à 2 dimensions à l'aide de l'algorithme PCA\n",
    "pca = PCA(n_components=2)\n",
    "reduced_vectors = pca.fit_transform(tfidf_vectors.toarray())"
   ]
  },
  {
   "cell_type": "code",
   "execution_count": 30,
   "metadata": {},
   "outputs": [
    {
     "data": {
      "text/plain": [
       "array([[ 0.49940242, -0.43947927],\n",
       "       [-0.22882537,  0.00137827],\n",
       "       [-0.27935513, -0.01591036],\n",
       "       [ 0.28620178,  0.51679286],\n",
       "       [ 0.30678364,  0.51829425],\n",
       "       [-0.28971537, -0.09053804],\n",
       "       [-0.04734945,  0.04053677],\n",
       "       [-0.06057915,  0.11984363],\n",
       "       [-0.22345179, -0.05226794],\n",
       "       [-0.12138459,  0.07470408]])"
      ]
     },
     "execution_count": 30,
     "metadata": {},
     "output_type": "execute_result"
    }
   ],
   "source": [
    "reduced_vectors[:10]"
   ]
  },
  {
   "cell_type": "code",
   "execution_count": 31,
   "metadata": {},
   "outputs": [
    {
     "data": {
      "text/plain": [
       "<matplotlib.legend.Legend at 0x2d99beb2cb0>"
      ]
     },
     "execution_count": 31,
     "metadata": {},
     "output_type": "execute_result"
    },
    {
     "data": {
      "image/png": "[encoded data removed]",
      "text/plain": [
       "<Figure size 1000x1000 with 1 Axes>"
      ]
     },
     "metadata": {},
     "output_type": "display_data"
    }
   ],
   "source": [
    "# Générer le plot\n",
    "x_axis = reduced_vectors[:, 0]\n",
    "y_axis = reduced_vectors[:, 1]\n",
    "\n",
    "plt.figure(figsize=(10,10))\n",
    "scatter = plt.scatter(x_axis, y_axis, s=100, c=clusters)\n",
    "\n",
    "# Ajouter les centroïdes\n",
    "centroids = pca.transform(km_model.cluster_centers_)\n",
    "plt.scatter(centroids[:, 0], centroids[:, 1],  marker = \"x\", s=100, linewidths = 2, color='black')\n",
    "\n",
    "# Ajouter la légende\n",
    "plt.legend(handles=scatter.legend_elements()[0], labels=set(clusters), title=\"Clusters\")"
   ]
  },
  {
   "cell_type": "markdown",
   "metadata": {},
   "source": [
    "# Word Embeddings : le modèle Word2Vec"
   ]
  },
  {
   "cell_type": "code",
   "execution_count": 33,
   "metadata": {},
   "outputs": [],
   "source": [
    "import sys\n",
    "\n",
    "from gensim.models.phrases import Phrases, Phraser\n",
    "from gensim.models import Word2Vec\n",
    "\n",
    "import nltk\n",
    "from nltk.tokenize import wordpunct_tokenize\n",
    "from unidecode import unidecode"
   ]
  },
  {
   "cell_type": "markdown",
   "metadata": {},
   "source": [
    "### Chargement et traitement des phrases du corpus"
   ]
  },
  {
   "cell_type": "code",
   "execution_count": 35,
   "metadata": {},
   "outputs": [],
   "source": [
    "# Création d'un objet qui *streame* les lignes d'un fichier pour économiser de la RAM\n",
    "class MySentences(object):\n",
    "    \"\"\"Tokenize and Lemmatize sentences\"\"\"\n",
    "    def __init__(self, filename):\n",
    "        self.filename = filename\n",
    "\n",
    "    def __iter__(self):\n",
    "        for line in open(self.filename, encoding='utf-8', errors=\"backslashreplace\"):\n",
    "            yield [unidecode(w.lower()) for w in wordpunct_tokenize(line)]"
   ]
  },
  {
   "cell_type": "code",
   "execution_count": 36,
   "metadata": {},
   "outputs": [],
   "source": [
    "infile = f\"../data/sents.txt\"\n",
    "sentences = MySentences(infile)"
   ]
  },
  {
   "cell_type": "markdown",
   "metadata": {},
   "source": [
    "##### Détection des bigrams\n"
   ]
  },
  {
   "cell_type": "code",
   "execution_count": 37,
   "metadata": {},
   "outputs": [],
   "source": [
    "bigram_phrases = Phrases(sentences)"
   ]
  },
  {
   "cell_type": "code",
   "execution_count": 38,
   "metadata": {},
   "outputs": [
    {
     "data": {
      "text/plain": [
       "dict"
      ]
     },
     "execution_count": 38,
     "metadata": {},
     "output_type": "execute_result"
    }
   ],
   "source": [
    "type(bigram_phrases.vocab)"
   ]
  },
  {
   "cell_type": "code",
   "execution_count": 39,
   "metadata": {},
   "outputs": [
    {
     "data": {
      "text/plain": [
       "15850647"
      ]
     },
     "execution_count": 39,
     "metadata": {},
     "output_type": "execute_result"
    }
   ],
   "source": [
    "len(bigram_phrases.vocab.keys())"
   ]
  },
  {
   "cell_type": "code",
   "execution_count": 40,
   "metadata": {},
   "outputs": [],
   "source": [
    "# Conversion des `Phrases` en objet `Phraser`\n",
    "bigram_phraser = Phraser(phrases_model=bigram_phrases)"
   ]
  },
  {
   "cell_type": "markdown",
   "metadata": {},
   "source": [
    "##### Extraction des trigrams"
   ]
  },
  {
   "cell_type": "code",
   "execution_count": 41,
   "metadata": {},
   "outputs": [],
   "source": [
    "trigram_phrases = Phrases(bigram_phraser[sentences])"
   ]
  },
  {
   "cell_type": "code",
   "execution_count": 42,
   "metadata": {},
   "outputs": [],
   "source": [
    "trigram_phraser = Phraser(phrases_model=trigram_phrases)"
   ]
  },
  {
   "cell_type": "markdown",
   "metadata": {},
   "source": [
    "##### Création d'un corpus d'unigrams, bigrams, trigrams"
   ]
  },
  {
   "cell_type": "code",
   "execution_count": 43,
   "metadata": {},
   "outputs": [],
   "source": [
    "corpus = list(trigram_phraser[bigram_phraser[sentences]])"
   ]
  },
  {
   "cell_type": "code",
   "execution_count": 44,
   "metadata": {},
   "outputs": [
    {
     "name": "stdout",
     "output_type": "stream",
     "text": [
      "[['mi', 'imnri', 'r', 'i', '<<', 'i', 'i', 'hmu', \"'\", 'i', '/', 'tx', \"-'\", 'l', ':', 'marche', 'tenu', 'hors', 'villa', ',', 'la', '9', '.'], ['--', 'u', 'a', 'ete', 'vaain', 'si', 'teicj', '>>', 'm', 'races_indigenes', 'de', 'fr', '.'], ['31', '<)', 'a', '5s', \"'\", 'k', '131', 'de', '.'], ['rasa', 'iichakdui', \"'\", 'te', ',', 'do', '(', 'r', '.', '3s0', 'h', '710', '.', 'taureaux', 'iallsenas', ',>', 'ia', 'u', '\\\\', '--', 'a', '--', ';', '0ii', '.'], ['hollandais', ',', 'dufr', '.'], ['0', '.'], ['--', 'a', '9', '.--', 'la', 'idto', '-', 'vachei', 'laitieres', ':', 'bn', 'vante', '1q', '.'], ['vendues', '3', '\\\\', 'au', 'prix', 'la', '410', 'a', '*', '<<', 'i', 'h', '\\\\;', 'genisses', ',', 'kl', '.'], [\"'.\", '9', '.'], ['i', 'l', '.', '2', 'i', '.', 'id', '.'], ['da', '370', 'i', '6lutr', '.'], ['marche', 'a', '<', 'u', 'porcs', '.'], ['--', 'categorie', 'de', 'lt', 'ilashtya', ':', \"'\", '237', 'on', 'vente', ';', 'vendus', '1', 'm', '.', 'do', \"'\", '2', 'i', '.--', 'a', ';:,', 'l', '--;', 'i', '.', 'l', '.'], ['des', 't', \"'\", 'innlrov', '-', 'i3ie', ';>>', 'vente', ',', 'vendus', '93', '.', 'de', '32', '.--', 'a', '52', '.--.'], ['xumiir', '.'], ['10', 'a', '*', 'v', '.--_froment', '>>', 'las', '190', 'kit', '..', 'fr', '.'], ['15', '.', '23', ';', 'mi', \"'\", 'te', '>>,', '--;', 'epautre', '.', 'l3', '.--', ';', 'seigle', '.'], ['14', '.', '5', '>;', 'avoine', '.'], ['10', '.', '30', ';', 'orge', '.'], ['--;_feveroles', ',', '22', '.--;_pommes', 'do', 'terre', '.'], ['g', '.--;_paille', ',', 'v', '.', '--;', 'fcin', '.', '6', '.', '50', ':', 'lioumon', ',', '--.'], ['2', \"%'\", 'ivellom', '.'], ['10', 'mv', '.'], ['--', 'froment', ',', 'las', '109_kll', '.,', '(', 'r', '.', '13', '.'], ['--', '\\\\', '--;_selgle', '.', 'ii', '.-;\\\\', '--;_avoine', ',', '16', '.', '509', '-;', 'orge', ',', '17', '30', 'j', '--,--;_escourgeon', '.'], ['#', 'inint', '-', 't', '>>*', 'o', '<<', 'd', ',', '10', 'nov', '.', '--', 'froment', 'je', 'culture', ',', 'par', '400kil', '.,', 'fr', '.'], ['10', '.--', '1', '--.--;', 'm', '.', 'commercial', ',', '16', '.'], ['--', 'a', '--.--,_seigle', '.'], ['13', '.', '50', 'a', '--;_avoine', '.'], ['10', '.', '50', 'a', '--.--;_orge', '.'], ['17', '.--', 'a', '--;_farine', 'ira', 'de', 'froment', ',', '0', '.--', 'a', '0', '.'], ['--;', 'son', 'gros', 'de', 'tco', '*', 'ment', ',', '15', '.--', 'a', '--.--.'], ['huiie', 'de', 'colza', ',', 'par', 'hcctoi', '.,', '--', 'a', '--;', 'u', '.', 'epures', ',', '--~', 'a', ';', 'huile', 'de', 'lin', '.'], ['--,--', 'a', '--;_tourteaux', 'de', 'colza', 'par', '100_kll', '.,', '--', 'a', '--;_id', '.'], ['de', 'lin', ',', '--', 'a', 'i', 'pommes', 'de', 'terre_blanches', ',', '6', '.', '3', '>>', 'a', '0', '.--.'], ['...', ',,', ',,,,', 'paille', ',', 'fi', '.', '50', 'a', '0', '.--;', 'loln', \",'\", '5', '.', '5i', ')', 'a', '0', '.--;_beurre', ',', 'le', 'kilo', '.'], ['2', '.', 'o', 'a', '0', '.--;_oeufs', ',', 'les', '26', ',', '3', '.', '30', 'a', '0', '.--;_genievre', ',', 'l', \"'\", 'uect', '.,', '--', 'a', 'esprit', ',', '0', '.--', 'a', '0', '.--.'], ['tournai', ',', '10', 'nov', '.', '--', 'froment_blaze', ',', 'l', \"'\", 'iiaetoluri', ',', 'fr', '.'], ['--.--', 'a', '--;_froment', ',--', 'u', '--;_metell', ',', '--', 'a', '--;_seigle', ',--.--', 'a', '--;_avoine', ',', '--', 'a', '--;', 'feve', '-', 'roles', ',', '--.--', 'a', '--;_beurre', ',', 'le', 'kilo', ',', '2', '.', '00', 'a', '3', ',', '10', ';', 'oeufs', ',', 'les', '26', ',', '3', '.', '70', 'u3', '.', 'c0', '.'], ['wacrofiliom', ',', '10', 'nov', '.--', 'beurre', '.', 'le', '1', '/', '3', 'il', '-,', '1', '.', '5qa', '1', '.', '60', ',', 'oeufs', ',', 'les', '26', ',', '3', '.', '99', 'a', '1', '.', '16', ';', 'lin', ',', 'les', '100_kilos', ',', '93', '.--', 'a', '145', '.--;_etoupes', ',', 'lee', '1u0', 'kii', '.,', '30', '.--', 'a', '35', '.--;_pommes', 'de', 'terre', ',', 'les', '100', '>', 'il', '.,', '3', '.--', 'a', '3', '.', '50', ';', 'jeune', 'porc', ',', 'la', 'piece', ',', '33', '.--', 'a', '50', '.--;_lapin', '.'], ['2', '.--', 'a', '3', '.', '95', ';', 'poulet', ',', '2', '.', '25', 'a', '3', '.'], ['--.'], ['vin', '-', 'e', '<<,', '10', 'nov', '.', '--', 'froment', ',', 'les', '10j', 'kll', '.,', 'fr', '.'], ['18', '.--', 'a', '19', '.', '59', ';', 'seigle', ',', '16', '.-', 'a', '16', '.', '75', ';', 'avoine', ',', '16', '.--', 'a', '16', '.', '75', ':', 'pois', '--', 'a', '--;_feveroles', ',', '--.--', 'a', '--.--;_pommes', 'de', 'terre', ',', '8', '80', 'a', 'g', '.--*,', 'beurre', ',', 'le', 'kilo', ',', '2', '.', '90', 'a', '3', '.', '20', ';', 'oeufs', ',', 'le', '(', 'iuart3', '-', 'ron', '.'], ['i', '.', '16', 'a', '4', '.', '63', '.'], ['charmanne', '.'], ['consul_general', 'de', 'belgique', 'a', 'ottawa', '(', 'canada', ').', 'a', 'ele', 'nomme_consul', 'general', 'a', 'bang_kok', '(', 'siam', '),', 'avec', 'juridiction', 'sur', 'le', 'siam', 'et', 'les', 'slrails', 'seluements', '.'], ['--', 'm', '.', 'kelels', ',', 'consul', 'de', 'belgique', 'a', 'tien', '-', 'tsin', '(', 'chine', '),', 'a', 'ele', 'nomme_consul', 'a', 'ottawa', '(', 'canada', '),', 'avec', 'juridiction', 'sur', 'la', 'federation', 'canadienne', 'et', 'ja', 'colonie', 'de', 'terre', '-', 'neuve', '.'], ['decoration', 'c', \".'\", 'v', \"'\", 'gae', '.'], ['--', 'la', '.', 'decoration_civique', 'a', 'ele', 'decernee', 'aux', 'agents', 'de', 'l', \"'\", 'administration', 'des', 'postes', ';', 'designes_ci', '-', 'apres', ',', 'savoir', ':', 'la', 'medaille', 'de', 'ire_classe', ':', 'a', 'm', '.', 'billy', '.'], ['facteur_rural', '.'], ['la', 'medaille', 'de', '2e_classe', ':', 'a', 'm', '.', 'goringy', 'facteur', 'local', '.', '.', 'armee', '.'], ['--', 'le', 'sergent', ',', 'en', 'conge_illimite', ',', 'baudouin', '\"', 'est', 'nomme', 'sous', '-', 'lieutenanl', 'payeur', 'de', 'reserve', '.'], ['notariat', '.'], ['--', 'sont_acceptees', 'les', 'demissions', 'de', 'm', '.', 'myin', '.'], ['de', 'ses_fonctions', 'de', 'notaire', 'a', 'la', 'residence', 'd', \"'\", 'anvers', ';', 'do', 'm', '.', 'jadol', ',', 'id', '.'], ['de', 'marche', '.'], ['ecole_militaire', '.'], ['--', 'sont', 'admis', 'a', 'l', \"'\", 'ecole_militaire', ',', 'en', 'qualite', 'd', \"'\", 'eleves', 'de', 'la', '57e', 'promotion', 'de', 'l', \"'\", 'infanterie', 'et', 'ao', 'la', '<', \"'\", '*', \"'\", '*', '-', '\"', 'i', 'cavalerie', ',', 'les', 'jeunes_gens', 'dont', 'les', 'noms_suivent', ':', 'hanon', 'de', 'louvet', ',', 'van_sprang', ',', 'deyloo', ',', 'petit', ',', 'champagne', '.'], ['masui', ',', 'gerard', ',', 'vanneste', ',', 'lallemand', ',', 'van', 'iioeeke', \".'\", 'rigano', '.'], ['ilendrickx', ',', 'von', 'glaboke', ',', 'sou', '-', \"'\", 'moy', '.', 'couturieaux', ',', 'lucion', ',', 'mersch', ',', 'iledo', ',', 'iloudmont', ',', 'de', 'heusch', '.'], ['terfve', '.'], ['labio', ',', 'brabant', ',', 'franckx', ',', 'foulon', ',', 'fiahiiifirh', '.'], ['simmi', '\"', 'tfannatvnin', 'fivnv', '^', 'f', 'h', '-.', 'ilu', '/', 'phnin', '.'], ['u', 'gernaert', ',', 'simon', \",'\", 'henncquin', ',', 'fcro', \"'\", 't', ',', 'g', '->', 'ile', ',', 'i', \"'\", 'orjo', 'e', \"'\", 'y', 'hannus', '.', 'noel', ',', 'flanieng', ',', 'bri', '-', 'matchovelette', ',', 'gondry', ',', 'doux', ',', 'vermeuleu', ',', 'giilo', 'gillot', ',', 'boufvin', '.'], ['borremans', '.'], ['academie_royale_flamande', 'de', 'langue', 'et', 'de', 'litterature', '.'], ['--', 'l', \"'\", 'election', 'faite', 'par', 'l', \"'\", 'academie_flamande', ',', 'dans', 'sa', 'seance', 'du', '17', 'octobre_1906', ',', 'de', 'm', '.', 'le', 'docteur', 'hugo_verriest', ',', 'a', 'ingoyghem', ',', 'en', 'qualite', 'de', 'membre_effectif', ',', 'en', '-', 'remplacement', 'de', 'feu', 'm', '.', 'janssens', ',', 'est_approuvee', '.'], ['sapeurs', '-', 'pompiers_communaux', 'armes', '.'], ['--', 'm', '.', 'pa', '*', 'njels', ',', 'sous', '-', 'fieu', 'tenant', 'au', 'corps', 'arme', 'de', 'sapeurs', '-', 'pom', '-', 'iers', 'communaux', 'de', 'schaerheek', ',', 'est', 'nomme', 'lieule', '-', 'p', 'u', 'teuant', ',-', 'en_remplacement', 'de', 'm', '.', 'verteneuil', ',', 'decede', '.'], ['enseignement_moyen', '.'], ['--', 'mme', 'schaefer', '-', 'misonne', ',.'], ['.', 'directrice', 'a', 'titre_provisoire', 'de', 'l', \"'\", 'ecole_moyenne', 'de', 'l', \"'\", 'elat', 'pour', 'alles', ',', 'a', 'jumet', ',', 'est', 'dechargee', 'des', 'fonciions', 'de', 'regente', 'd', \"'\", 'economie', 'domes', '!'], ['ique', 'a', 'l', \"'\", 'ecole', '\"', 'moyen', 'ne', 'del', \"'\", 'ktai', 'pour', 'ailes', ',', 'a', 'la', 'louviere', '.'], ['--', 'm', '.', 'barzin', 'est', 'decharge', ',', 'sur', 'sa', 'demande', ',', 'des', 'fonctions', 'de', 'regent', 'a', 'l', \"'\", 'ecole_moyenne', 'de', 'l', \"'\", 'etal', 'pour', \"'\", 'garcons', ',', 'a', 'spa', ',', 'avec', 'autorisation', 'd', \"'\", 'en', 'conserver', 'le', 'r', 'titre_honorifique', ':', 'il', 'est', 'admis', 'a', 'faire_valoir', 'ses_droits', ';', 'a', 'ja', 'pension', '.'], [';', \"'\", '-', 'r', '-', 'm', '.', 'drainer', ',', 'directeur', 'a', 'titre_provisoire', 'de', 'l', \"'\", 'ecole', 'moyenue', 'de', 'l', \"'\", 'etat', 'pour', '.', 'garcons', '^', 'a', 'wavre', ',', 'est', 'decharge', ',', 'sur', 'sa', 'demande', ',', 'des', 'fonctions', 'de', 'professeur', 'de', 'gymnastique', ',', 'en', ',', 'partage', ',', 'a', 'l', \"'\", 'ecole_moyenne', 'do', 'l', \"'\", 'etat', 'pour', 'garcons', ',', 'a', 'roeulx', '.'], ['*', 'contributions_directes', ',', 'douanes', 'et', 'accises', '.'], ['--', 'm', '.'], ['du', '-', '#', 'val', ',', 'receveur', 'des', 'contributions_directes', 'et', 'des', 'accises', 'a', 'deynze', '.', 'est', 'admis', ',', 'sur', 'sa', 'demande', ',', 'a', 'faire_valoir', 'ses_droits', 'a', 'la', 'pension', 'de', 'retraite', '.'], ['coinmission', 'tnedicale', 'provinciale', '.'], ['--', 'sont_nommes', 'membres_correspondants', 'de', 'la', 'commission_medicale', 'piminciale', 'de', 'namur', ';', 'mm', '.'], ['les', 'doctonrs', 'rolin', ',', 'u', \"'\", 'e', 'fosses', ';', 'lebrun', ',', 'de', 'ligny', ';', 'giliard', ',', 'do', 'ctiampion', ',', 'et', '.'], ['defasse', ',', 'de', 'spj', '\\\\', 'en_remplacement', 'de', 'mm', ',', 'les', 'docteurs', '.'], ['wery', ',', 'de', 'fosses', ',', 'et', 'fermine', ',', 'do', 'lignv', ',', 'demis', '-', ';', 'sionnairos', ',', 'et', 'de', 'mm', '.'], ['jes', 'docteurs', 'renard', ',', \"'\", 'de', 'champion', 'et', 'dehaybe', ',', 'de', 'spy', ',', 'decedes', '.'], ['arts', ',', 'sciences', 'et', 'lettres', 'declamation', '.', 'et', 'diction', '.'], ['*', '--', 'on', 'nous', 'demande', 'de', 'divers_cotes', 'des', 'renseignements', 'sur', 'le', 'cours', 'que', 'va', 'donner', 'm', '.', 'hittemans', '.'], ['nous', 'no', 'croyons_pouvoir', 'mieux', 'faire', 'que', 'd', \"'\", 'engager', 'les', 'interesses', 'a', 's', \"'\", 'adresser', 'a', 'l', \"'\", 'artiste', ',', 'rue', 'verhulst', ',', '6', ',', 'a', 'uccle', '.'], ['universite_libre', ',', 'rue', 'des', 'sols', '.'], ['--', 'demain_lundi', ',', 'a', 'r', 'meures', 'du', 'soir', ',', 'conference', 'par', 'm', '.', 'lameere', ':', '<<', 'la', 'fondation', '>>.'], ['universite_populaire', 'd', \"'\", 'euerbeek', '.'], ['--', 'lundi', '12', ',', 'a', '3', 'h', '.', '1', '/', '2', ',', 'au', 'local', ',', '4', ',', 'rue', 'do', 'l', \"'\", 'etang', ',', 'inauguration_solennelle', '.'], ['discours', 'de', 'm', '.', 'e', '.', 'richard', '.'], ['conference', 'de', 'xi', '.', 'ch', '.', 'buls', '.', 'sujet', ':', '<<-', 'la', 'corse', '>>.'], ['projections_lumineuses', '*', 'universite_populaire', 'de', 'saint', '-', 'josse', ',', '67', ',', 'rue', 'de', 'la', 'limite', '.'], ['demain_lundi', ',', 'a', '8', 'h', '.', '1', '/', '4', ',', 'eauserio', 'litteraire', ':', '<<', 'maxim', 'gorki', '<<.', 'lectures', '.'], ['vamicale', 'de', 'vecole', 'n_deg', '7', '.'], ['--', 'demain_lundi', ',', 'a', '8', 'h', '.', 'du', 'soir', ',', 'dans', 'le', 'preau', 'de', 'l', \"'\", 'ecole', 'n_deg', '7', ',', 'rue_haute', '225', \"'\", 'conference', 'par', 'madame', 'journaux', ':', '<<', 'de', 'la', 'grande', '-', 'chartreuse', 'a', 'ja', 'cote', 'd', \"'\", 'azur', '>>.', 'projections_lumineuses', '.'], ['foyer_intellectuel', ',', 's0', ',', 'rue', 'du', 'fort', '.'], ['--', 'demain_lundi', ',', 'a', '8b', ',,', 'm', '.', 'j', '.', 'vincent', ':', '<<', 'la', 'meteorologie', ':', 'le', 'barometre', '>>.']]\n"
     ]
    }
   ],
   "source": [
    "print(corpus[:100])"
   ]
  },
  {
   "cell_type": "markdown",
   "metadata": {},
   "source": [
    "### Entrainement d'un modèle Word2Vec sur ce corpus"
   ]
  },
  {
   "cell_type": "code",
   "execution_count": 45,
   "metadata": {},
   "outputs": [
    {
     "name": "stdout",
     "output_type": "stream",
     "text": [
      "CPU times: total: 26min 21s\n",
      "Wall time: 41min 24s\n"
     ]
    }
   ],
   "source": [
    "%%time\n",
    "model = Word2Vec(\n",
    "    corpus, # On passe le corpus de ngrams que nous venons de créer\n",
    "    vector_size=32, # Le nombre de dimensions dans lesquelles le contexte des mots devra être réduit, aka. vector_size\n",
    "    window=2, # La taille du \"contexte\", ici 2 mots avant et après le mot observé\n",
    "    min_count=10, # On ignore les mots qui n'apparaissent pas au moins 10 fois dans le corpus\n",
    "    workers=1, # Pas de parallelisation\n",
    "    epochs=1 # Nombre d'itérations du réseau de neurones sur le jeu de données pour ajuster les paramètres avec la descente de gradient, aka. epochs.\n",
    ")"
   ]
  },
  {
   "cell_type": "code",
   "execution_count": 46,
   "metadata": {},
   "outputs": [],
   "source": [
    "# Sauver le modèle dans un fichier\n",
    "outfile = f\"../data/newspapers.model\"\n",
    "model.save(outfile)"
   ]
  },
  {
   "cell_type": "markdown",
   "metadata": {},
   "source": [
    "##### Explorer le modèle"
   ]
  },
  {
   "cell_type": "code",
   "execution_count": 47,
   "metadata": {},
   "outputs": [],
   "source": [
    "# Charger le modèle en mémoire\n",
    "model = Word2Vec.load(\"../data/newspapers.model\")"
   ]
  },
  {
   "cell_type": "code",
   "execution_count": 48,
   "metadata": {},
   "outputs": [
    {
     "data": {
      "text/plain": [
       "array([-0.67578685, -1.8063583 ,  0.38112047,  1.04918   , -1.8882687 ,\n",
       "       -1.2998881 , -3.0164258 , -0.4710169 , -1.5830549 ,  0.48804203,\n",
       "        1.8379551 , -1.2415999 ,  1.637304  ,  0.9064664 , -0.9846686 ,\n",
       "        1.6745278 ,  1.4728719 ,  0.33147672, -0.40552843, -0.82963884,\n",
       "        0.15217873, -0.9777018 ,  3.3728027 , -0.5227684 ,  0.12490888,\n",
       "        1.5850183 ,  0.9344785 ,  1.2369787 , -0.13618743, -4.8922124 ,\n",
       "       -1.5528042 , -0.67665917], dtype=float32)"
      ]
     },
     "execution_count": 48,
     "metadata": {},
     "output_type": "execute_result"
    }
   ],
   "source": [
    "# Imprimer le vecteur d'un terme\n",
    "model.wv[\"directeur\"]"
   ]
  },
  {
   "cell_type": "code",
   "execution_count": 49,
   "metadata": {},
   "outputs": [
    {
     "data": {
      "text/plain": [
       "0.8996973"
      ]
     },
     "execution_count": 49,
     "metadata": {},
     "output_type": "execute_result"
    }
   ],
   "source": [
    "# Calculer la similarité entre deux termes: Exemple 1\n",
    "model.wv.similarity(\"directeur\", \"doyen\")"
   ]
  },
  {
   "cell_type": "code",
   "execution_count": 50,
   "metadata": {},
   "outputs": [
    {
     "data": {
      "text/plain": [
       "0.012841117"
      ]
     },
     "execution_count": 50,
     "metadata": {},
     "output_type": "execute_result"
    }
   ],
   "source": [
    "# Calculer la similarité entre deux termes: Exemple 2\n",
    "model.wv.similarity(\"directeur\", \"eleve\")"
   ]
  },
  {
   "cell_type": "code",
   "execution_count": 51,
   "metadata": {},
   "outputs": [
    {
     "data": {
      "text/plain": [
       "1.0"
      ]
     },
     "execution_count": 51,
     "metadata": {},
     "output_type": "execute_result"
    }
   ],
   "source": [
    "# Calculer la similarité entre deux termes: Exemple 3\n",
    "model.wv.similarity(\"directeur\", \"directeur\")"
   ]
  },
  {
   "cell_type": "code",
   "execution_count": 52,
   "metadata": {},
   "outputs": [
    {
     "data": {
      "text/plain": [
       "[('secretaire', 0.9204807877540588),\n",
       " ('directeur_general', 0.9079679250717163),\n",
       " ('membre', 0.9004807472229004),\n",
       " ('doyen', 0.8996972441673279),\n",
       " ('professeur', 0.8956307172775269)]"
      ]
     },
     "execution_count": 52,
     "metadata": {},
     "output_type": "execute_result"
    }
   ],
   "source": [
    "# Chercher les mots les plus proches d'un terme donné: Exemple 1\n",
    "model.wv.most_similar(\"directeur\", topn=5)"
   ]
  },
  {
   "cell_type": "code",
   "execution_count": 53,
   "metadata": {},
   "outputs": [
    {
     "data": {
      "text/plain": [
       "[('academie', 0.8904618620872498),\n",
       " ('ecole', 0.8680539727210999),\n",
       " ('institut_national', 0.8586804270744324),\n",
       " ('association', 0.8432233333587646),\n",
       " ('office', 0.829876184463501)]"
      ]
     },
     "execution_count": 53,
     "metadata": {},
     "output_type": "execute_result"
    }
   ],
   "source": [
    "# Chercher les mots les plus proches d'un terme donné: Exemple 2\n",
    "model.wv.most_similar(\"institut\", topn=5)"
   ]
  },
  {
   "cell_type": "code",
   "execution_count": 54,
   "metadata": {},
   "outputs": [
    {
     "data": {
      "text/plain": [
       "[('jeune_femme', 0.8930578231811523),\n",
       " ('jeune_fille', 0.8865285515785217),\n",
       " ('fille', 0.8428325653076172),\n",
       " ('femmo', 0.8267726898193359),\n",
       " ('bile', 0.8217665553092957)]"
      ]
     },
     "execution_count": 54,
     "metadata": {},
     "output_type": "execute_result"
    }
   ],
   "source": [
    "# Chercher les mots les plus proches d'un terme donné: Exemple 3\n",
    "model.wv.most_similar(\"femme\", topn=5)"
   ]
  },
  {
   "cell_type": "markdown",
   "metadata": {},
   "source": [
    "##### Faire des recherches complexes à travers l'espace vectoriel"
   ]
  },
  {
   "cell_type": "code",
   "execution_count": 55,
   "metadata": {},
   "outputs": [
    {
     "name": "stdout",
     "output_type": "stream",
     "text": [
      "[('reine', 0.7927921414375305)]\n"
     ]
    }
   ],
   "source": [
    "print(model.wv.most_similar(positive=['roi', 'femme'], negative=['homme'], topn=1))"
   ]
  },
  {
   "cell_type": "code",
   "execution_count": 56,
   "metadata": {},
   "outputs": [
    {
     "name": "stdout",
     "output_type": "stream",
     "text": [
      "[('france', 0.8610690832138062)]\n"
     ]
    }
   ],
   "source": [
    "print(model.wv.most_similar(positive=['lyon', 'belgique'], negative=['anvers'], topn=1))"
   ]
  },
  {
   "cell_type": "code",
   "execution_count": 58,
   "metadata": {},
   "outputs": [
    {
     "name": "stdout",
     "output_type": "stream",
     "text": [
      "[('ath', 0.8340957164764404), ('etterbeek', 0.8246972560882568), ('evere', 0.813856840133667), ('enghien', 0.804882287979126), ('anderlecht', 0.8044556975364685), ('vilvorde', 0.7966938614845276), ('ixelles', 0.7956671118736267), ('ixeiles', 0.7878463864326477), ('ypres', 0.7858937382698059), ('forest', 0.7854872941970825)]\n"
     ]
    }
   ],
   "source": [
    "print(model.wv.most_similar(positive=['liege', 'anvers'], negative=['belgique'], topn=10))"
   ]
  }
 ],
 "metadata": {
  "kernelspec": {
   "display_name": "Python 3.10.8 ('tac_venv': venv)",
   "language": "python",
   "name": "python3"
  },
  "language_info": {
   "codemirror_mode": {
    "name": "ipython",
    "version": 3
   },
   "file_extension": ".py",
   "mimetype": "text/x-python",
   "name": "python",
   "nbconvert_exporter": "python",
   "pygments_lexer": "ipython3",
   "version": "3.10.8"
  },
  "vscode": {
   "interpreter": {
    "hash": "de4e42111c950c4aa80e1a469ab8d0a856a94c52314027f4162803e47cae3e28"
   }
  }
 },
 "nbformat": 4,
 "nbformat_minor": 4
}
